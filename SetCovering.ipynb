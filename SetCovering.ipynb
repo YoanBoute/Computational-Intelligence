{
 "cells": [
  {
   "cell_type": "code",
   "execution_count": 1,
   "metadata": {},
   "outputs": [],
   "source": [
    "import numpy as np\n",
    "from random import random\n",
    "from functools import reduce\n",
    "from queue import PriorityQueue, SimpleQueue, LifoQueue\n",
    "from collections import namedtuple"
   ]
  },
  {
   "cell_type": "code",
   "execution_count": 23,
   "metadata": {},
   "outputs": [],
   "source": [
    "PROBLEM_SIZE = 5\n",
    "NUM_SETS = 10\n",
    "# Arrays where all elements have a probability of 20% of being true (Basic building blocks to cover the set)\n",
    "SETS = tuple(np.array([random() < .3 for _ in range(PROBLEM_SIZE)]) for _ in range(NUM_SETS))\n",
    "State = namedtuple('State', ['taken', 'not_taken'])"
   ]
  },
  {
   "cell_type": "code",
   "execution_count": 3,
   "metadata": {},
   "outputs": [],
   "source": [
    "def goal_check(state : State) :\n",
    "    # Combination of every chosen blocks and checking if all is covered --> Test for goal state\n",
    "    return np.all(reduce(np.logical_or, (SETS[i] for i in state[0]), np.array([False for _ in range(PROBLEM_SIZE)])))"
   ]
  },
  {
   "cell_type": "code",
   "execution_count": 24,
   "metadata": {},
   "outputs": [],
   "source": [
    "# If the whole set can't be covered even with all the building sets, the problem can't be solved\n",
    "assert goal_check(State(set(range(NUM_SETS)),set())), \"Problem not solvable\""
   ]
  },
  {
   "cell_type": "markdown",
   "metadata": {},
   "source": [
    "Solving the problem with uninformed strategy"
   ]
  },
  {
   "cell_type": "code",
   "execution_count": 33,
   "metadata": {},
   "outputs": [
    {
     "name": "stdout",
     "output_type": "stream",
     "text": [
      "Solved in 114 steps : {0, 2, 7}\n"
     ]
    }
   ],
   "source": [
    "# Change PriorityQueue with SimpleQueue to have Breadth-first, and LifoQueue to have Depth-first\n",
    "frontier = SimpleQueue()\n",
    "# Initial state\n",
    "frontier.put(State(set(), set(range(NUM_SETS))))\n",
    "\n",
    "current_state = frontier.get()\n",
    "counter = 0\n",
    "while not goal_check(current_state) : \n",
    "    counter += 1\n",
    "    for a in current_state[1] :\n",
    "        new_state = State(current_state[0] ^ {a}, current_state[1] ^ {a})\n",
    "        frontier.put(new_state)\n",
    "    current_state = frontier.get()\n",
    "    \n",
    "print(\"Solved in\", counter, \"steps :\", current_state.taken)"
   ]
  },
  {
   "cell_type": "markdown",
   "metadata": {},
   "source": [
    "Solving the problem with A*"
   ]
  },
  {
   "cell_type": "code",
   "execution_count": 6,
   "metadata": {},
   "outputs": [],
   "source": [
    "def h(state : State, set_size) :\n",
    "    return set_size - np.sum(reduce(np.logical_or, (SETS[i] for i in state.taken), np.array([False for _ in range(set_size)])))"
   ]
  },
  {
   "cell_type": "code",
   "execution_count": 21,
   "metadata": {},
   "outputs": [],
   "source": [
    "def g(state : State) :\n",
    "    return len(state.taken)"
   ]
  },
  {
   "cell_type": "code",
   "execution_count": 9,
   "metadata": {},
   "outputs": [
    {
     "data": {
      "text/plain": [
       "2"
      ]
     },
     "execution_count": 9,
     "metadata": {},
     "output_type": "execute_result"
    }
   ],
   "source": [
    "stateTest = State({0,2}, {1,3,4,5,6,7,8,9}) \n",
    "h(stateTest, PROBLEM_SIZE)\n",
    "g(stateTest)"
   ]
  },
  {
   "cell_type": "code",
   "execution_count": 34,
   "metadata": {},
   "outputs": [
    {
     "name": "stdout",
     "output_type": "stream",
     "text": [
      "Solution found : {0, 4, 7} in 6 steps\n"
     ]
    }
   ],
   "source": [
    "frontier = PriorityQueue()\n",
    "\n",
    "cur_state = State(set(), set([i for i in range(NUM_SETS)]))\n",
    "# frontier.put((0,cur_state))\n",
    "\n",
    "counter_steps = 0\n",
    "while cur_state is not None and not goal_check(cur_state) :\n",
    "    counter_steps += 1\n",
    "    for action in cur_state.not_taken :\n",
    "        new_state = State(cur_state.taken ^ {action}, cur_state.not_taken ^ {action})\n",
    "        new_cost = g(new_state) + h(new_state, PROBLEM_SIZE)\n",
    "        frontier.put((new_cost, new_state))\n",
    "    _, cur_state = frontier.get()\n",
    "\n",
    "if cur_state is None :\n",
    "    print(\"No solution was found :(\")\n",
    "else :\n",
    "    print(\"Solution found :\", cur_state.taken,\"in\", counter_steps, \"steps\")"
   ]
  }
 ],
 "metadata": {
  "kernelspec": {
   "display_name": "env",
   "language": "python",
   "name": "python3"
  },
  "language_info": {
   "codemirror_mode": {
    "name": "ipython",
    "version": 3
   },
   "file_extension": ".py",
   "mimetype": "text/x-python",
   "name": "python",
   "nbconvert_exporter": "python",
   "pygments_lexer": "ipython3",
   "version": "3.9.13"
  }
 },
 "nbformat": 4,
 "nbformat_minor": 2
}
