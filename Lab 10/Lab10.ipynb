{
 "cells": [
  {
   "cell_type": "markdown",
   "metadata": {},
   "source": [
    "Copyright **`(c)`** 2023 Giovanni Squillero `<giovanni.squillero@polito.it>`  \n",
    "[`https://github.com/squillero/computational-intelligence`](https://github.com/squillero/computational-intelligence)  \n",
    "Free for personal or classroom use; see [`LICENSE.md`](https://github.com/squillero/computational-intelligence/blob/master/LICENSE.md) for details.  "
   ]
  },
  {
   "cell_type": "markdown",
   "metadata": {},
   "source": [
    "# LAB10\n",
    "\n",
    "Use reinforcement learning to devise a tic-tac-toe player.\n",
    "\n",
    "### Deadlines:\n",
    "\n",
    "* Submission: [Dies Natalis Solis Invicti](https://en.wikipedia.org/wiki/Sol_Invictus)\n",
    "* Reviews: [Befana](https://en.wikipedia.org/wiki/Befana)\n",
    "\n",
    "Notes:\n",
    "\n",
    "* Reviews will be assigned  on Monday, December 4\n",
    "* You need to commit in order to be selected as a reviewer (ie. better to commit an empty work than not to commit)"
   ]
  },
  {
   "cell_type": "code",
   "execution_count": 30,
   "metadata": {},
   "outputs": [],
   "source": [
    "import numpy as np \n",
    "from itertools import combinations\n",
    "from collections import namedtuple, defaultdict\n",
    "from random import choice\n",
    "from copy import deepcopy"
   ]
  },
  {
   "cell_type": "code",
   "execution_count": 13,
   "metadata": {},
   "outputs": [],
   "source": [
    "'''\n",
    "Magic Square :\n",
    "\n",
    "2 | 7 | 6\n",
    "--+---+--\n",
    "9 | 5 | 1\n",
    "--+---+--\n",
    "4 | 3 | 8\n",
    "\n",
    "'''\n",
    "\n",
    "MAGIC = [2,7,6,\n",
    "         9,5,1,\n",
    "         4,3,8]"
   ]
  },
  {
   "cell_type": "code",
   "execution_count": 31,
   "metadata": {},
   "outputs": [],
   "source": [
    "State = namedtuple('State', ['x','o'])"
   ]
  },
  {
   "cell_type": "code",
   "execution_count": 32,
   "metadata": {},
   "outputs": [],
   "source": [
    "def print_board(pos : State) :\n",
    "    for r in range(3) :\n",
    "        for c in range(3) :\n",
    "            index = r*3 + c\n",
    "            if MAGIC[index] in pos.x :\n",
    "                print('X', end='')\n",
    "            elif MAGIC[index] in pos.o :\n",
    "                print('O', end='')\n",
    "            else :\n",
    "                print('.', end='')\n",
    "        print()\n",
    "    print()"
   ]
  },
  {
   "cell_type": "code",
   "execution_count": 44,
   "metadata": {},
   "outputs": [],
   "source": [
    "def win(elements) :\n",
    "    \"\"\"Check if positions of a player contain a full line\"\"\"\n",
    "    return any(sum(c) == 15 for c in combinations(elements,3))\n",
    "\n",
    "def state_value(position : State) :\n",
    "    \"\"\"Returns 1 if x player wins, -1 if o player wins, 0 else\"\"\"\n",
    "    if win(position.x) :\n",
    "        return 1\n",
    "    elif win(position.o) :\n",
    "        return -1\n",
    "    else :\n",
    "        return 0"
   ]
  },
  {
   "cell_type": "code",
   "execution_count": 46,
   "metadata": {},
   "outputs": [],
   "source": [
    "def random_game() :\n",
    "    trajectory = list()\n",
    "    state = State(set(),set())\n",
    "    available = set(range(1, 9+1))\n",
    "    while available :\n",
    "        x = choice(list(available))\n",
    "        state.x.add(x)\n",
    "        trajectory.append(deepcopy(state))\n",
    "        available.remove(x)\n",
    "        if win(state.x) :\n",
    "            break\n",
    "        \n",
    "        if available == set() :\n",
    "            break\n",
    "        o = choice(list(available))\n",
    "        state.o.add(o)\n",
    "        trajectory.append(deepcopy(state))\n",
    "        available.remove(o)\n",
    "        if win(state.o) :\n",
    "            break\n",
    "    \n",
    "    return trajectory\n"
   ]
  },
  {
   "cell_type": "code",
   "execution_count": 35,
   "metadata": {},
   "outputs": [
    {
     "name": "stdout",
     "output_type": "stream",
     "text": [
      "...\n",
      "X..\n",
      "...\n",
      "\n",
      "...\n",
      "XO.\n",
      "...\n",
      "\n",
      "..X\n",
      "XO.\n",
      "...\n",
      "\n",
      "O.X\n",
      "XO.\n",
      "...\n",
      "\n",
      "O.X\n",
      "XO.\n",
      "X..\n",
      "\n",
      "O.X\n",
      "XOO\n",
      "X..\n",
      "\n",
      "O.X\n",
      "XOO\n",
      "XX.\n",
      "\n",
      "O.X\n",
      "XOO\n",
      "XXO\n",
      "\n"
     ]
    }
   ],
   "source": [
    "plays = random_game()\n",
    "for play in plays :\n",
    "    print_board(play)"
   ]
  },
  {
   "cell_type": "code",
   "execution_count": 49,
   "metadata": {},
   "outputs": [],
   "source": [
    "value_dictionary = defaultdict(float)\n",
    "epsilon = 0.001\n",
    "\n",
    "for steps in range(100000) :\n",
    "    trajectory = random_game()\n",
    "    final_reward = state_value(trajectory[-1])\n",
    "    for state in trajectory :\n",
    "        hashable_state = (frozenset(state.x), frozenset(state.o))\n",
    "        value_dictionary[hashable_state] = value_dictionary[hashable_state] + epsilon*(final_reward - value_dictionary[hashable_state])"
   ]
  },
  {
   "cell_type": "code",
   "execution_count": 51,
   "metadata": {},
   "outputs": [
    {
     "data": {
      "text/plain": [
       "[((frozenset({3, 7}), frozenset({5})), -0.1752294217659493),\n",
       " ((frozenset({1, 4, 6, 9}), frozenset({2, 3, 5, 8})), -0.14536307757712247),\n",
       " ((frozenset({1, 9}), frozenset({5})), -0.14451364746627995),\n",
       " ((frozenset({1, 3, 4, 5}), frozenset({2, 6, 7, 9})), -0.13417463520514122),\n",
       " ((frozenset({1, 3, 8, 9}), frozenset({2, 4, 5, 6})), -0.1333079431482895),\n",
       " ((frozenset({2, 3, 5, 9}), frozenset({1, 4, 6, 8})), -0.13244038353182133),\n",
       " ((frozenset({1, 3, 7, 9}), frozenset({4, 5, 6, 8})), -0.12808954162980818),\n",
       " ((frozenset({1, 7, 8, 9}), frozenset({2, 4, 5, 6})), -0.12808954162980818),\n",
       " ((frozenset({2, 3, 7, 8}), frozenset({1, 4, 5, 9})), -0.1254685700597458),\n",
       " ((frozenset({1, 3, 7, 9}), frozenset({2, 5, 6, 8})), -0.12459316322296878)]"
      ]
     },
     "execution_count": 51,
     "metadata": {},
     "output_type": "execute_result"
    }
   ],
   "source": [
    "sorted(value_dictionary.items(), key=lambda e : e[1], reverse=False)[:10]"
   ]
  },
  {
   "cell_type": "code",
   "execution_count": 16,
   "metadata": {},
   "outputs": [
    {
     "name": "stdout",
     "output_type": "stream",
     "text": [
      "X..\n",
      "XX.\n",
      "OOO\n",
      "\n"
     ]
    }
   ],
   "source": [
    "print_board(state)"
   ]
  },
  {
   "cell_type": "code",
   "execution_count": null,
   "metadata": {},
   "outputs": [],
   "source": [
    "\"\"\" \n",
    "TODO :\n",
    "- Create a function to choose the best move based on the state values dictionary (Find the closest state and try to approach it / In all the possible next states, choose the best)\n",
    "- Function to test the performance of a player against a random player (both playing as X and O)\n",
    "- Search for a better alternative to MonteCarlo\n",
    "\"\"\" "
   ]
  }
 ],
 "metadata": {
  "kernelspec": {
   "display_name": "ci-fLJ3OwGs-py3.12",
   "language": "python",
   "name": "python3"
  },
  "language_info": {
   "codemirror_mode": {
    "name": "ipython",
    "version": 3
   },
   "file_extension": ".py",
   "mimetype": "text/x-python",
   "name": "python",
   "nbconvert_exporter": "python",
   "pygments_lexer": "ipython3",
   "version": "3.9.13"
  }
 },
 "nbformat": 4,
 "nbformat_minor": 2
}
