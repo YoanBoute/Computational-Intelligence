{
 "cells": [
  {
   "cell_type": "code",
   "execution_count": 1,
   "metadata": {},
   "outputs": [],
   "source": [
    "import numpy as np\n",
    "from random import random\n",
    "from functools import reduce\n",
    "from queue import PriorityQueue, SimpleQueue, LifoQueue\n",
    "from collections import namedtuple"
   ]
  },
  {
   "cell_type": "code",
   "execution_count": 32,
   "metadata": {},
   "outputs": [],
   "source": [
    "PROBLEM_SIZE = 50\n",
    "NUM_SETS = 200\n",
    "# Arrays where all elements have a probability of 20% of being true (Basic building blocks to cover the set)\n",
    "SETS = tuple(np.array([random() < .3 for _ in range(PROBLEM_SIZE)]) for _ in range(NUM_SETS))\n",
    "State = namedtuple('State', ['taken', 'not_taken'])"
   ]
  },
  {
   "cell_type": "code",
   "execution_count": 33,
   "metadata": {},
   "outputs": [],
   "source": [
    "def goal_check(state : State) :\n",
    "    # Combination of every chosen blocks and checking if all is covered --> Test for goal state\n",
    "    return np.all(reduce(np.logical_or, (SETS[i] for i in state[0]), np.array([False for _ in range(PROBLEM_SIZE)])))"
   ]
  },
  {
   "cell_type": "code",
   "execution_count": 34,
   "metadata": {},
   "outputs": [],
   "source": [
    "# If the whole set can't be covered even with all the building sets, the problem can't be solved\n",
    "assert goal_check(State(set(range(NUM_SETS)),set())), \"Problem not solvable\""
   ]
  },
  {
   "cell_type": "markdown",
   "metadata": {},
   "source": [
    "Solving the problem with uninformed strategy"
   ]
  },
  {
   "cell_type": "code",
   "execution_count": 5,
   "metadata": {},
   "outputs": [
    {
     "name": "stdout",
     "output_type": "stream",
     "text": [
      "Solved in 11 steps : {0, 1}\n"
     ]
    }
   ],
   "source": [
    "# Change PriorityQueue with SimpleQueue to have Breadth-first, and LifoQueue to have Depth-first\n",
    "frontier = SimpleQueue()\n",
    "# Initial state\n",
    "frontier.put(State(set(), set(range(NUM_SETS))))\n",
    "\n",
    "current_state = frontier.get()\n",
    "counter = 0\n",
    "while not goal_check(current_state) : \n",
    "    counter += 1\n",
    "    for a in current_state[1] :\n",
    "        new_state = State(current_state[0] ^ {a}, current_state[1] ^ {a})\n",
    "        frontier.put(new_state)\n",
    "    current_state = frontier.get()\n",
    "    \n",
    "print(\"Solved in\", counter, \"steps :\", current_state.taken)"
   ]
  },
  {
   "cell_type": "markdown",
   "metadata": {},
   "source": [
    "Solving the problem with A*"
   ]
  },
  {
   "cell_type": "code",
   "execution_count": 36,
   "metadata": {},
   "outputs": [],
   "source": [
    "def h(state: State, set_size):\n",
    "    return set_size - np.sum(\n",
    "        reduce(\n",
    "            np.logical_or,\n",
    "            (SETS[i] for i in state.taken),\n",
    "            np.array([False for _ in range(set_size)]),\n",
    "        )\n",
    "    )\n",
    "\n",
    "# h_alt has the same initial value as h, but it is decreased by the number of uncovered elements that simultaneously can be covered by one tile\n",
    "def h_alt(state: State, set_size) :\n",
    "    initial_cost = h(state, set_size)\n",
    "    missing_elements = [index for index,value in enumerate(reduce(np.logical_or, (SETS[i] for i in state.taken), np.array([False for _ in range(set_size)]))) if not value]\n",
    "    max_covered_with_one_set = 0\n",
    "    for set in [SETS[i] for i in state.not_taken] :\n",
    "        cnt_covered_elems = 0\n",
    "        for i, value in enumerate(set) :\n",
    "            if not value :\n",
    "                continue\n",
    "            if i in missing_elements :\n",
    "                cnt_covered_elems += 1\n",
    "        if cnt_covered_elems > max_covered_with_one_set :\n",
    "            max_covered_with_one_set = cnt_covered_elems\n",
    "    return initial_cost - max_covered_with_one_set + 1"
   ]
  },
  {
   "cell_type": "code",
   "execution_count": 30,
   "metadata": {},
   "outputs": [
    {
     "data": {
      "text/plain": [
       "(array([False,  True, False, False,  True]),\n",
       " array([ True, False, False, False, False]),\n",
       " array([ True, False, False, False, False]),\n",
       " array([False, False, False, False, False]),\n",
       " array([False,  True,  True, False, False]),\n",
       " array([ True, False, False, False,  True]),\n",
       " array([ True, False, False,  True,  True]),\n",
       " array([False,  True, False,  True,  True]),\n",
       " array([False, False, False, False, False]),\n",
       " array([False,  True, False,  True, False]))"
      ]
     },
     "execution_count": 30,
     "metadata": {},
     "output_type": "execute_result"
    }
   ],
   "source": [
    "SETS"
   ]
  },
  {
   "cell_type": "code",
   "execution_count": 25,
   "metadata": {},
   "outputs": [
    {
     "data": {
      "text/plain": [
       "2"
      ]
     },
     "execution_count": 25,
     "metadata": {},
     "output_type": "execute_result"
    }
   ],
   "source": [
    "s = State({8},{0,1,2,3,4,5,6,7,9})\n",
    "h_alt(s, 5)"
   ]
  },
  {
   "cell_type": "code",
   "execution_count": 7,
   "metadata": {},
   "outputs": [],
   "source": [
    "def g(state : State) :\n",
    "    return len(state.taken)"
   ]
  },
  {
   "cell_type": "code",
   "execution_count": 37,
   "metadata": {},
   "outputs": [
    {
     "name": "stdout",
     "output_type": "stream",
     "text": [
      "Solution found : {88, 177, 99, 57} in 204 steps\n"
     ]
    }
   ],
   "source": [
    "frontier = PriorityQueue()\n",
    "\n",
    "cur_state = State(set(), set([i for i in range(NUM_SETS)]))\n",
    "# frontier.put((0,cur_state))\n",
    "\n",
    "counter_steps = 0\n",
    "while cur_state is not None and not goal_check(cur_state) :\n",
    "    counter_steps += 1\n",
    "    for action in cur_state.not_taken :\n",
    "        new_state = State(cur_state.taken ^ {action}, cur_state.not_taken ^ {action})\n",
    "        new_cost = g(new_state) + h_alt(new_state, PROBLEM_SIZE)\n",
    "        frontier.put((new_cost, new_state))\n",
    "    _, cur_state = frontier.get()\n",
    "\n",
    "if cur_state is None :\n",
    "    print(\"No solution was found :(\")\n",
    "else :\n",
    "    print(\"Solution found :\", cur_state.taken,\"in\", counter_steps, \"steps\")"
   ]
  },
  {
   "cell_type": "code",
   "execution_count": null,
   "metadata": {},
   "outputs": [],
   "source": []
  }
 ],
 "metadata": {
  "kernelspec": {
   "display_name": "env",
   "language": "python",
   "name": "python3"
  },
  "language_info": {
   "codemirror_mode": {
    "name": "ipython",
    "version": 3
   },
   "file_extension": ".py",
   "mimetype": "text/x-python",
   "name": "python",
   "nbconvert_exporter": "python",
   "pygments_lexer": "ipython3",
   "version": "3.9.13"
  }
 },
 "nbformat": 4,
 "nbformat_minor": 2
}
