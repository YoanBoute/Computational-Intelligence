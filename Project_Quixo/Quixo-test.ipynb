{
 "cells": [
  {
   "cell_type": "code",
   "execution_count": 1,
   "metadata": {},
   "outputs": [],
   "source": [
    "import numpy as np \n",
    "from game import Game, Player, Move, Board\n",
    "from copy import deepcopy"
   ]
  },
  {
   "cell_type": "code",
   "execution_count": 2,
   "metadata": {},
   "outputs": [
    {
     "data": {
      "text/plain": [
       "array([[-1, -1, -1, -1, -1],\n",
       "       [-1, -1, -1, -1, -1],\n",
       "       [-1, -1, -1, -1, -1],\n",
       "       [-1, -1, -1, -1, -1],\n",
       "       [-1, -1, -1, -1, -1]], dtype=int8)"
      ]
     },
     "execution_count": 2,
     "metadata": {},
     "output_type": "execute_result"
    }
   ],
   "source": [
    "g = Game()\n",
    "g.get_board()"
   ]
  },
  {
   "cell_type": "code",
   "execution_count": 38,
   "metadata": {},
   "outputs": [],
   "source": [
    "def score(player, state : Board) :\n",
    "    board = state.board\n",
    "    score = 5\n",
    "    for row in board :\n",
    "        new_score = np.count_nonzero(row == player)\n",
    "        score = min(score, 5 - new_score)\n",
    "    \n",
    "    for col in range(board.shape[1]) :\n",
    "        new_score = np.count_nonzero(board[:,col] == player)\n",
    "        score = min(score, 5 - new_score)\n",
    "    \n",
    "    diag1 = board.diagonal()\n",
    "    new_score = np.count_nonzero(diag1 == player)\n",
    "    score = min(score, 5 - new_score)\n",
    "\n",
    "    diag2 = np.fliplr(board).diagonal()\n",
    "    new_score = np.count_nonzero(diag2 == player)\n",
    "    score = min(score, 5 - new_score)\n",
    "\n",
    "    return score"
   ]
  },
  {
   "cell_type": "code",
   "execution_count": 4,
   "metadata": {},
   "outputs": [],
   "source": [
    "def get_periphery_board(board) :\n",
    "    shape_y, shape_x = board.shape\n",
    "    periphery_cubes = set()\n",
    "    for i in range(shape_x) :\n",
    "        periphery_cubes.add((0,i))\n",
    "        periphery_cubes.add((shape_y-1,i))\n",
    "    for j in range(shape_y) :\n",
    "        periphery_cubes.add((j,0))\n",
    "        periphery_cubes.add((j, shape_x-1))\n",
    "    \n",
    "    return periphery_cubes"
   ]
  },
  {
   "cell_type": "code",
   "execution_count": 49,
   "metadata": {},
   "outputs": [],
   "source": [
    "def get_successors(player, board : Board) :\n",
    "    '''check which cube can be played'''\n",
    "    playable_cubes = []\n",
    "    for pos in get_periphery_board(board) :\n",
    "        if board[pos] == -1 or board[pos] == player :\n",
    "            playable_cubes.append(pos)\n",
    "    \n",
    "    '''For each playable cube, compute the possible successors, depending on the movement of slide, and returns the move and the associated board'''\n",
    "    successors = []\n",
    "    for pos in playable_cubes :\n",
    "        for slide_direction in board.acceptable_slides(pos) :\n",
    "            new_board = deepcopy(board)\n",
    "            new_board[pos] = player\n",
    "            new_board.slide(pos, slide_direction)\n",
    "            successors.append((pos, slide_direction), new_board.board)\n",
    "        \n",
    "    return successors\n",
    "    "
   ]
  },
  {
   "cell_type": "code",
   "execution_count": 33,
   "metadata": {},
   "outputs": [],
   "source": [
    "class Tree :\n",
    "    def __init__(self, board = None, children : list = None, moves : list = None) -> None:\n",
    "        self.board = board\n",
    "        self.children = children if children is not None else []\n",
    "        # Moves are the plays corresponding one to one to the children boards\n",
    "        self.moves = moves if moves is not None else []\n",
    "        self.score = -1        \n",
    "    \n",
    "    def get_leaves(self) :\n",
    "        if self.children == list() :\n",
    "            return [self]\n",
    "        leaves = []\n",
    "        for node in self.children :\n",
    "            leaves.extend(node.get_leaves())\n",
    "        \n",
    "        return leaves\n",
    "    \n",
    "'''Computes all the next possible moves and boards until a given depth is reached, for further application of MinMax'''\n",
    "def get_states_tree(player : int, board : Board, max_depth : int, initial_player : int) :\n",
    "    tree = Tree(board)\n",
    "    if board.check_winner() != -1 or max_depth == 1 :\n",
    "        return tree\n",
    "\n",
    "    for move, succ in get_successors(player, board) :\n",
    "        tree.children.append(get_states_tree(1 - player, Board(succ), max_depth - 1, initial_player))\n",
    "        tree.moves.append(move)\n",
    "\n",
    "    return tree\n",
    "\n",
    "'''Computes the score of the leaves of the tree (furthest anticipated moves) for further application of MinMax'''\n",
    "def valuate_tree(player : int, states_tree : Tree) :\n",
    "    valuated_tree = deepcopy(states_tree)\n",
    "    for leaf in valuated_tree.get_leaves() :\n",
    "        leaf.score = score(player, leaf.board)\n",
    "    \n",
    "    return valuated_tree"
   ]
  },
  {
   "cell_type": "code",
   "execution_count": 45,
   "metadata": {},
   "outputs": [],
   "source": [
    "'''MinMax Algorithm where the root node is always the player who tries to maximize the score'''\n",
    "def min_max(valuated_tree : Tree, compute_max=True) :\n",
    "    if valuated_tree.children == list() :\n",
    "        return valuated_tree\n",
    "    \n",
    "    options = []\n",
    "    for child in valuated_tree.children :\n",
    "        options.append(min_max(child, compute_max=bool(1-compute_max)))\n",
    "    \n",
    "    if compute_max :\n",
    "        return max(options, key = lambda t : t.score)\n",
    "    else : \n",
    "        return min(options, key = lambda t : t.score)\n",
    "    "
   ]
  },
  {
   "cell_type": "markdown",
   "metadata": {},
   "source": [
    "## TODO :\n",
    "- ~~In get_successors, return the Moves associated to the next boards~~\n",
    "- Store the Move associated to the Board in the Tree (In the form of a Dict[move : child])\n",
    "- Change MinMax to work on dict[child : score of MinMax] to be able to return a direct child of the root and not a leaf of the tree\n",
    "- Improve score function to be more performant\n",
    "- See if it is possible to adapt the max_depth of the Tree based on the device capabilities"
   ]
  },
  {
   "cell_type": "code",
   "execution_count": 48,
   "metadata": {},
   "outputs": [
    {
     "data": {
      "text/plain": [
       "<__main__.Tree at 0x2187c2eebb0>"
      ]
     },
     "execution_count": 48,
     "metadata": {},
     "output_type": "execute_result"
    }
   ],
   "source": [
    "g = Game()\n",
    "t = get_states_tree(0, Board(g.get_board()), 3, 0)\n",
    "v = valuate_tree(0, t)\n",
    "min_max(v)"
   ]
  },
  {
   "cell_type": "code",
   "execution_count": 19,
   "metadata": {},
   "outputs": [
    {
     "ename": "IndexError",
     "evalue": "list index out of range",
     "output_type": "error",
     "traceback": [
      "\u001b[1;31m---------------------------------------------------------------------------\u001b[0m",
      "\u001b[1;31mIndexError\u001b[0m                                Traceback (most recent call last)",
      "Input \u001b[1;32mIn [19]\u001b[0m, in \u001b[0;36m<cell line: 1>\u001b[1;34m()\u001b[0m\n\u001b[1;32m----> 1\u001b[0m \u001b[43mt\u001b[49m\u001b[38;5;241;43m.\u001b[39;49m\u001b[43mchildren\u001b[49m\u001b[43m[\u001b[49m\u001b[38;5;241;43m1\u001b[39;49m\u001b[43m]\u001b[49m\u001b[38;5;241;43m.\u001b[39;49m\u001b[43mchildren\u001b[49m\u001b[43m[\u001b[49m\u001b[38;5;241;43m1\u001b[39;49m\u001b[43m]\u001b[49m\u001b[38;5;241;43m.\u001b[39;49m\u001b[43mchildren\u001b[49m\u001b[43m[\u001b[49m\u001b[38;5;241;43m1\u001b[39;49m\u001b[43m]\u001b[49m\u001b[38;5;241m.\u001b[39mdata\n",
      "\u001b[1;31mIndexError\u001b[0m: list index out of range"
     ]
    }
   ],
   "source": [
    "t.children[1].children[1].children[1].data"
   ]
  },
  {
   "cell_type": "code",
   "execution_count": 35,
   "metadata": {},
   "outputs": [
    {
     "data": {
      "text/plain": [
       "True"
      ]
     },
     "execution_count": 35,
     "metadata": {},
     "output_type": "execute_result"
    }
   ],
   "source": [
    "bool(1-False)"
   ]
  },
  {
   "cell_type": "code",
   "execution_count": 42,
   "metadata": {},
   "outputs": [
    {
     "data": {
      "text/plain": [
       "3"
      ]
     },
     "execution_count": 42,
     "metadata": {},
     "output_type": "execute_result"
    }
   ],
   "source": [
    "max([1,2,3])"
   ]
  },
  {
   "cell_type": "code",
   "execution_count": null,
   "metadata": {},
   "outputs": [],
   "source": []
  }
 ],
 "metadata": {
  "kernelspec": {
   "display_name": "Python 3",
   "language": "python",
   "name": "python3"
  },
  "language_info": {
   "codemirror_mode": {
    "name": "ipython",
    "version": 3
   },
   "file_extension": ".py",
   "mimetype": "text/x-python",
   "name": "python",
   "nbconvert_exporter": "python",
   "pygments_lexer": "ipython3",
   "version": "3.9.13"
  }
 },
 "nbformat": 4,
 "nbformat_minor": 2
}
