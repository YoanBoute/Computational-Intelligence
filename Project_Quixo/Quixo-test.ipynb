{
 "cells": [
  {
   "cell_type": "code",
   "execution_count": 1,
   "metadata": {},
   "outputs": [],
   "source": [
    "import numpy as np \n",
    "from game import Game, Player, Move, Board\n",
    "from copy import deepcopy\n",
    "from tqdm.notebook import tqdm\n",
    "from time import time"
   ]
  },
  {
   "cell_type": "code",
   "execution_count": 2,
   "metadata": {},
   "outputs": [
    {
     "data": {
      "text/plain": [
       "array([[-1, -1, -1, -1, -1],\n",
       "       [-1, -1, -1, -1, -1],\n",
       "       [-1, -1, -1, -1, -1],\n",
       "       [-1, -1, -1, -1, -1],\n",
       "       [-1, -1, -1, -1, -1]], dtype=int8)"
      ]
     },
     "execution_count": 2,
     "metadata": {},
     "output_type": "execute_result"
    }
   ],
   "source": [
    "g = Game()\n",
    "g.get_board()"
   ]
  },
  {
   "cell_type": "code",
   "execution_count": 3,
   "metadata": {},
   "outputs": [],
   "source": [
    "def score(player, state : Board) :\n",
    "    board = state.board\n",
    "    score = 5\n",
    "    for row in board :\n",
    "        new_score = np.count_nonzero(row == player)\n",
    "        score = min(score, 5 - new_score)\n",
    "    \n",
    "    for col in range(board.shape[1]) :\n",
    "        new_score = np.count_nonzero(board[:,col] == player)\n",
    "        score = min(score, 5 - new_score)\n",
    "    \n",
    "    diag1 = board.diagonal()\n",
    "    new_score = np.count_nonzero(diag1 == player)\n",
    "    score = min(score, 5 - new_score)\n",
    "\n",
    "    diag2 = np.fliplr(board).diagonal()\n",
    "    new_score = np.count_nonzero(diag2 == player)\n",
    "    score = min(score, 5 - new_score)\n",
    "\n",
    "    return score"
   ]
  },
  {
   "cell_type": "code",
   "execution_count": 4,
   "metadata": {},
   "outputs": [],
   "source": [
    "def get_periphery_board(board) :\n",
    "    shape_y, shape_x = board.shape\n",
    "    periphery_cubes = set()\n",
    "    for i in range(shape_x) :\n",
    "        periphery_cubes.add((0,i))\n",
    "        periphery_cubes.add((shape_y-1,i))\n",
    "    for j in range(shape_y) :\n",
    "        periphery_cubes.add((j,0))\n",
    "        periphery_cubes.add((j, shape_x-1))\n",
    "    \n",
    "    return periphery_cubes"
   ]
  },
  {
   "cell_type": "code",
   "execution_count": 5,
   "metadata": {},
   "outputs": [],
   "source": [
    "def get_successors(player, board : Board) :\n",
    "    '''Check which cube can be played'''\n",
    "    playable_cubes = []\n",
    "    for pos in get_periphery_board(board) :\n",
    "        if board[pos] == -1 or board[pos] == player :\n",
    "            playable_cubes.append(pos)\n",
    "    \n",
    "    '''For each playable cube, compute the possible successors, depending on the movement of slide, and returns the move and the associated board'''\n",
    "    successors = []\n",
    "    for pos in playable_cubes :\n",
    "        for slide_direction in board.acceptable_slides(pos) :\n",
    "            new_board = deepcopy(board)\n",
    "            new_board[pos] = player\n",
    "            new_board.slide(pos, slide_direction)\n",
    "            # Coordinates are inverted in the Game class, so they are returned inverted here for conversion\n",
    "            successors.append([((pos[1], pos[0]), slide_direction), new_board.board])\n",
    "        \n",
    "    return successors\n",
    "    "
   ]
  },
  {
   "cell_type": "code",
   "execution_count": 9,
   "metadata": {},
   "outputs": [],
   "source": [
    "class Tree :\n",
    "    def __init__(self, board = None, children : list = None) -> None:\n",
    "        self.board = board\n",
    "        self.children = children if children is not None else dict()\n",
    "        # Moves are the plays corresponding one to one to the children boards\n",
    "        self.score = -1        \n",
    "    \n",
    "    def get_leaves(self) :\n",
    "        if self.children == dict() :\n",
    "            return [self]\n",
    "        leaves = []\n",
    "        for move, node in self.children.items() :\n",
    "            leaves.extend(node.get_leaves())\n",
    "        \n",
    "        return leaves\n",
    "    \n",
    "'''Computes all the next possible moves and boards until a given depth is reached, for further application of MinMax'''\n",
    "def get_states_tree(player : int, board : Board, max_time : int, initial_player : int,  max_depth = 1, start_time = None, current_depth = 0) :\n",
    "    if start_time is None :\n",
    "        start_time = time()\n",
    "        \n",
    "    tree = Tree(board)\n",
    "    if board.check_winner() != -1 or (time() - start_time) > max_time or current_depth >= max_depth :\n",
    "        return tree\n",
    "\n",
    "    for move, succ in get_successors(player, board) :\n",
    "        tree.children[move] = get_states_tree(1 - player, Board(succ), max_time, initial_player, max_depth, start_time, current_depth + 1)\n",
    "\n",
    "    return tree\n",
    "\n",
    "'''Computes the score of the leaves of the tree (furthest anticipated moves) for further application of MinMax'''\n",
    "def valuate_tree(player : int, states_tree : Tree, score_function = score) :\n",
    "    valuated_tree = deepcopy(states_tree)\n",
    "    for leaf in valuated_tree.get_leaves() :\n",
    "        leaf.score = score(player, leaf.board)\n",
    "    \n",
    "    return valuated_tree"
   ]
  },
  {
   "cell_type": "code",
   "execution_count": 12,
   "metadata": {},
   "outputs": [],
   "source": [
    "g = Game()\n",
    "t = get_states_tree(0, Board(g.get_board()), 30, 0, 4)"
   ]
  },
  {
   "cell_type": "code",
   "execution_count": 36,
   "metadata": {},
   "outputs": [
    {
     "data": {
      "text/plain": [
       "<__main__.Tree at 0x14897ab4c10>"
      ]
     },
     "execution_count": 36,
     "metadata": {},
     "output_type": "execute_result"
    }
   ],
   "source": [
    "list(list(t.children.values())[7].children.values())[40]"
   ]
  },
  {
   "cell_type": "code",
   "execution_count": 7,
   "metadata": {},
   "outputs": [],
   "source": [
    "'''MinMax Algorithm where the root node is always the player who tries to maximize the score --> Returns the Move as well as the score, as we want to know what to play'''\n",
    "def min_max(valuated_tree : Tree, compute_max=False) :\n",
    "    if valuated_tree.children == dict() :\n",
    "        return None, valuated_tree.score\n",
    "    \n",
    "    options = []\n",
    "    for move, child in valuated_tree.children.items() :\n",
    "        options.append([move, min_max(child, compute_max=bool(1-compute_max))[1]])\n",
    "    \n",
    "    if compute_max :\n",
    "        return max(options, key = lambda t : t[1])\n",
    "    else : \n",
    "        return min(options, key = lambda t : t[1])\n",
    "    "
   ]
  },
  {
   "cell_type": "code",
   "execution_count": 8,
   "metadata": {},
   "outputs": [],
   "source": [
    "class MinMaxPlayer(Player) :\n",
    "    def __init__(self, score_function = score) -> None:\n",
    "        super().__init__()\n",
    "        self.score_function = score_function\n",
    "    \n",
    "    def make_move(self, game: Game) -> tuple[tuple[int, int], Move]:\n",
    "        board = Board(game.get_board())\n",
    "        player = game.get_current_player()\n",
    "        tree = get_states_tree(player, board, 2, player)\n",
    "        value_tree = valuate_tree(player, tree, self.score_function)\n",
    "        move, score = min_max(value_tree)\n",
    "        return move\n",
    "        "
   ]
  },
  {
   "cell_type": "code",
   "execution_count": 9,
   "metadata": {},
   "outputs": [
    {
     "data": {
      "text/plain": [
       "array([[-1,  1, -1, -1,  0],\n",
       "       [ 0,  1, -1, -1, -1],\n",
       "       [-1,  1, -1, -1, -1],\n",
       "       [-1,  1,  0, -1, -1],\n",
       "       [-1,  1,  0, -1, -1]], dtype=int8)"
      ]
     },
     "execution_count": 9,
     "metadata": {},
     "output_type": "execute_result"
    }
   ],
   "source": [
    "from main import RandomPlayer\n",
    "\n",
    "g = Game()\n",
    "g.play(RandomPlayer(), MinMaxPlayer())\n",
    "g.get_board()"
   ]
  },
  {
   "cell_type": "code",
   "execution_count": 10,
   "metadata": {},
   "outputs": [],
   "source": [
    "'''Simulates a certain number of games between two strategies, and displays the final performance of both strategies. To avoid potential edge associated to being the beginning player, player1 plays half the time first, half the time second.'''\n",
    "def evaluate_strategies(player1 : Player, player2 : Player, deterministic_only = False) :\n",
    "    # If at least one strategy includes randomness, we run 100 games to get reliable results\n",
    "    if not deterministic_only :\n",
    "        number_of_games = 100\n",
    "    # If both strategies are deterministic, then running several games won't change anything in the results (we only need to play 2 games, one for each starting position)\n",
    "    else :\n",
    "        number_of_games = 2\n",
    "    half_games = number_of_games // 2\n",
    "    victories_1 = victories_2 = 0\n",
    "    for _ in tqdm(range(half_games)) :\n",
    "        g = Game()\n",
    "        g.play(player1, player2)\n",
    "        if g.check_winner() == 0 :\n",
    "            victories_1 += 1\n",
    "        else : \n",
    "            victories_2 += 1\n",
    "    \n",
    "    for _ in tqdm(range(half_games)) :\n",
    "        g = Game()\n",
    "        g.play(player2, player1)\n",
    "        if g.check_winner() == 1 :\n",
    "            victories_1 += 1\n",
    "        else :\n",
    "            victories_2 += 1\n",
    "    \n",
    "    return victories_1, victories_2"
   ]
  },
  {
   "cell_type": "code",
   "execution_count": 11,
   "metadata": {},
   "outputs": [
    {
     "data": {
      "application/vnd.jupyter.widget-view+json": {
       "model_id": "a12c24af20fd48d0ad57970ff36a888f",
       "version_major": 2,
       "version_minor": 0
      },
      "text/plain": [
       "  0%|          | 0/50 [00:00<?, ?it/s]"
      ]
     },
     "metadata": {},
     "output_type": "display_data"
    },
    {
     "data": {
      "application/vnd.jupyter.widget-view+json": {
       "model_id": "ebcfffc50298432ca5f8d6a2786e33ed",
       "version_major": 2,
       "version_minor": 0
      },
      "text/plain": [
       "  0%|          | 0/50 [00:00<?, ?it/s]"
      ]
     },
     "metadata": {},
     "output_type": "display_data"
    },
    {
     "data": {
      "text/plain": [
       "(92, 8)"
      ]
     },
     "execution_count": 11,
     "metadata": {},
     "output_type": "execute_result"
    }
   ],
   "source": [
    "evaluate_strategies(MinMaxPlayer(), RandomPlayer())"
   ]
  },
  {
   "cell_type": "code",
   "execution_count": 12,
   "metadata": {},
   "outputs": [],
   "source": [
    "board = Board(np.array([[ 0, -1, -1, -1, -1],\n",
    " [ 0, -1, -1, -1, -1],\n",
    " [-1, -1, -1, -1, -1],\n",
    " [-1, -1, -1, -1, -1],\n",
    " [ 1, -1, -1, -1, -1]]))\n",
    "\n",
    "t = get_states_tree(1, board, 2, 1)"
   ]
  },
  {
   "cell_type": "code",
   "execution_count": 13,
   "metadata": {},
   "outputs": [],
   "source": [
    "v = valuate_tree(1, t, score)"
   ]
  },
  {
   "cell_type": "code",
   "execution_count": 14,
   "metadata": {},
   "outputs": [],
   "source": [
    "m = min_max(v)"
   ]
  },
  {
   "cell_type": "code",
   "execution_count": 23,
   "metadata": {},
   "outputs": [
    {
     "data": {
      "text/plain": [
       "1705712649.1574888"
      ]
     },
     "execution_count": 23,
     "metadata": {},
     "output_type": "execute_result"
    }
   ],
   "source": [
    "time()"
   ]
  },
  {
   "cell_type": "markdown",
   "metadata": {},
   "source": [
    "## TODO :\n",
    "- ~~In get_successors, return the Moves associated to the next boards~~\n",
    "- ~~Store the Move associated to the Board in the Tree (In the form of a Dict[move : child])~~\n",
    "- ~~Change MinMax to work on dict[child : score of MinMax] to be able to return a direct child of the root and not a leaf of the tree~~\n",
    "- ~~Optimize trees generation to have quicker games (Try caching and/or combine tree generation and valuation to have Alpha-Beta pruning during generation)~~\n",
    "- Change the generation of trees to be in breadth-first, with only time-limit, no more depth limit\n",
    "- Improve score function to be more performant\n",
    "- ~~See if it is possible to adapt the max_depth of the Tree based on the device capabilities~~\n",
    "- Add the possibility to play against AI"
   ]
  },
  {
   "cell_type": "code",
   "execution_count": 16,
   "metadata": {},
   "outputs": [
    {
     "data": {
      "text/plain": [
       "[((1, 0), <Move.BOTTOM: 1>), 4]"
      ]
     },
     "execution_count": 16,
     "metadata": {},
     "output_type": "execute_result"
    }
   ],
   "source": [
    "g = Game()\n",
    "t = get_states_tree(0, Board(g.get_board()), 2, 0)\n",
    "v = valuate_tree(0, t)\n",
    "min_max(v, True)"
   ]
  },
  {
   "cell_type": "code",
   "execution_count": 17,
   "metadata": {},
   "outputs": [
    {
     "data": {
      "text/plain": [
       "[((1, 0), <Move.BOTTOM: 1>), 1]"
      ]
     },
     "execution_count": 17,
     "metadata": {},
     "output_type": "execute_result"
    }
   ],
   "source": [
    "board = np.array([[ 0, 0, 0, 1,-1],\n",
    "                  [ 1,-1,-1,-1, 0],\n",
    "                  [ 0, 1, 1,-1,-1],\n",
    "                  [ 1, 0,-1,-1,-1],\n",
    "                  [ 0, 1, 1, 0,-1]])\n",
    "t = get_states_tree(0, Board(board), 3, 0)\n",
    "v = valuate_tree(0, t)\n",
    "min_max(v, compute_max=False)"
   ]
  },
  {
   "cell_type": "code",
   "execution_count": 18,
   "metadata": {},
   "outputs": [
    {
     "name": "stdout",
     "output_type": "stream",
     "text": [
      "-1\n",
      "-1\n",
      "-1\n",
      "-1\n",
      "-1\n",
      "-1\n",
      "-1\n",
      "-1\n",
      "-1\n",
      "-1\n",
      "-1\n",
      "-1\n",
      "-1\n",
      "-1\n",
      "-1\n",
      "-1\n",
      "-1\n",
      "-1\n",
      "-1\n",
      "-1\n",
      "-1\n",
      "-1\n",
      "-1\n",
      "-1\n",
      "-1\n",
      "-1\n",
      "-1\n",
      "-1\n",
      "-1\n"
     ]
    }
   ],
   "source": [
    "s = get_states_tree(0, Board(board), 3, 0)\n",
    "v = valuate_tree(0,s)\n",
    "for succ in v.children.items() :\n",
    "    print(succ[1].score)"
   ]
  },
  {
   "cell_type": "code",
   "execution_count": 19,
   "metadata": {},
   "outputs": [
    {
     "data": {
      "text/plain": [
       "3"
      ]
     },
     "execution_count": 19,
     "metadata": {},
     "output_type": "execute_result"
    }
   ],
   "source": [
    "max([1,2,3])"
   ]
  },
  {
   "cell_type": "code",
   "execution_count": null,
   "metadata": {},
   "outputs": [],
   "source": []
  }
 ],
 "metadata": {
  "kernelspec": {
   "display_name": "Python 3",
   "language": "python",
   "name": "python3"
  },
  "language_info": {
   "codemirror_mode": {
    "name": "ipython",
    "version": 3
   },
   "file_extension": ".py",
   "mimetype": "text/x-python",
   "name": "python",
   "nbconvert_exporter": "python",
   "pygments_lexer": "ipython3",
   "version": "3.9.13"
  }
 },
 "nbformat": 4,
 "nbformat_minor": 2
}
