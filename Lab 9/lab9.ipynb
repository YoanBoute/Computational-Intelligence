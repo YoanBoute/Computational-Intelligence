{
 "cells": [
  {
   "cell_type": "markdown",
   "metadata": {},
   "source": [
    "Copyright **`(c)`** 2023 Giovanni Squillero `<giovanni.squillero@polito.it>`  \n",
    "[`https://github.com/squillero/computational-intelligence`](https://github.com/squillero/computational-intelligence)  \n",
    "Free for personal or classroom use; see [`LICENSE.md`](https://github.com/squillero/computational-intelligence/blob/master/LICENSE.md) for details.  "
   ]
  },
  {
   "cell_type": "markdown",
   "metadata": {},
   "source": [
    "# LAB9\n",
    "\n",
    "Write a local-search algorithm (eg. an EA) able to solve the *Problem* instances 1, 2, 5, and 10 on a 1000-loci genomes, using a minimum number of fitness calls. That's all.\n",
    "\n",
    "### Deadlines:\n",
    "\n",
    "* Submission: Sunday, December 3 ([CET](https://www.timeanddate.com/time/zones/cet))\n",
    "* Reviews: Sunday, December 10 ([CET](https://www.timeanddate.com/time/zones/cet))\n",
    "\n",
    "Notes:\n",
    "\n",
    "* Reviews will be assigned  on Monday, December 4\n",
    "* You need to commit in order to be selected as a reviewer (ie. better to commit an empty work than not to commit)"
   ]
  },
  {
   "cell_type": "code",
   "execution_count": 1,
   "metadata": {},
   "outputs": [],
   "source": [
    "from random import choices\n",
    "import numpy as np\n",
    "import numpy.random as rand\n",
    "from copy import deepcopy\n",
    "from tqdm import tqdm\n",
    "\n",
    "import lab9_lib"
   ]
  },
  {
   "cell_type": "code",
   "execution_count": 10,
   "metadata": {},
   "outputs": [],
   "source": [
    "# Turn this back to 1000 to solve the real problem\n",
    "INDIVIDUAL_SIZE = 30"
   ]
  },
  {
   "cell_type": "code",
   "execution_count": 3,
   "metadata": {},
   "outputs": [
    {
     "name": "stdout",
     "output_type": "stream",
     "text": [
      "[1, 1, 1, 1, 1, 1, 1, 1, 1, 1]\n",
      "1024\n"
     ]
    }
   ],
   "source": [
    "fitness = lab9_lib.make_problem(1)\n",
    "for n in range(2**10):\n",
    "    ind = [int(b) for b in str('{0:010b}'.format(n))]\n",
    "    if fitness(ind) == 1 :\n",
    "        print(ind)\n",
    "\n",
    "print(fitness.calls)"
   ]
  },
  {
   "cell_type": "code",
   "execution_count": 4,
   "metadata": {},
   "outputs": [],
   "source": [
    "class Individual :\n",
    "    def __init__(self, fitness_func, genotype = None) -> None:\n",
    "        if genotype is None :\n",
    "            self.genotype = np.array([rand.choice([0,1]) for _ in range(INDIVIDUAL_SIZE)])\n",
    "        else :\n",
    "            self.genotype = genotype\n",
    "        self.fitness = fitness_func(self.genotype)\n",
    "\n",
    "    # Overload [] method\n",
    "    def __getitem__(self, key) :\n",
    "        return self.genotype[key]\n",
    "    \n",
    "    # Overload [] assignment method\n",
    "    def __setitem__(self, key, newvalue) :\n",
    "        self.genotype[key] = newvalue"
   ]
  },
  {
   "cell_type": "code",
   "execution_count": 12,
   "metadata": {},
   "outputs": [],
   "source": [
    "class Population :\n",
    "    def __init__(self, size, offspring_size, fitness) -> None:\n",
    "        self.size = size\n",
    "        self.offspring_size = offspring_size\n",
    "        self.individuals = [Individual(fitness) for _ in range(self.size)]\n",
    "        self.fitness = fitness\n",
    "        self.cnt_gen = 0\n",
    "\n",
    "    # Allows to iterate directly over individuals\n",
    "    def __iter__(self) :\n",
    "        return self.individuals.__iter__()\n",
    "\n",
    "    # Mutates one random gene of an individual\n",
    "    def mutate(self, individual : Individual) :\n",
    "        # Mutation\n",
    "        new_ind = deepcopy(individual)\n",
    "        loci = rand.randint(0, INDIVIDUAL_SIZE)\n",
    "        new_ind[loci] = not new_ind[loci]\n",
    "        \n",
    "        # Fitness update\n",
    "        new_ind.fitness = self.fitness(new_ind.genotype)\n",
    "            \n",
    "        return new_ind\n",
    "    \n",
    "    # Recombines two parents using uniform crossover (or a computationally lighter approach in which each individual get exactly 50% genes randomly from each parent)\n",
    "    def crossover(self, ind1 : Individual, ind2 : Individual) :\n",
    "        new_genotype = np.zeros(INDIVIDUAL_SIZE)\n",
    "        indices = np.arange(INDIVIDUAL_SIZE)\n",
    "        rand.shuffle(indices)\n",
    "        limit = int(np.floor(INDIVIDUAL_SIZE / 2))\n",
    "        new_genotype[indices[:limit]] = ind1[indices[:limit]]\n",
    "        new_genotype[indices[limit:]] = ind2[indices[limit:]]\n",
    "        new_ind = Individual(self.fitness, new_genotype)\n",
    "        # new_ind = Individual(self.fitness, [rand.choice([ind1[i], ind2[i]]) for i in range(INDIVIDUAL_SIZE)])\n",
    "        return new_ind\n",
    "\n",
    "    # Perform parent selection using tournament selection\n",
    "    def parent_selection(self, parent_number, tournament_size) :\n",
    "        parents = []\n",
    "        for _ in range(parent_number) :\n",
    "            candidates = rand.choice(self.individuals, size=tournament_size)\n",
    "            parent = max(candidates, key=lambda i : i.fitness)\n",
    "            parents.append(parent)\n",
    "\n",
    "        return parents\n",
    "    \n",
    "    # Create offspring_size new individuals, either by mutation or by crossover\n",
    "    def create_offspring(self, parents, mutation_prob) :\n",
    "        new_individuals = []\n",
    "        for _ in range(self.offspring_size) :\n",
    "            if rand.rand() < mutation_prob :\n",
    "                parent = rand.choice(parents)\n",
    "                new_individuals.append(self.mutate(parent))\n",
    "            else :\n",
    "                par1, par2 = rand.choice(parents, size=2)\n",
    "                new_individuals.append(self.crossover(par1, par2))\n",
    "        \n",
    "        return new_individuals\n",
    "    \n",
    "    # Determine the survivors of the population based on their fitness\n",
    "    def survivor_selection(self, offspring) :\n",
    "        total_population = self.individuals\n",
    "        total_population.extend(offspring)\n",
    "        # Sort all individuals by descending fitness, and keep the fittest one to conserve population size\n",
    "        surivors = sorted(total_population, key = lambda i : i.fitness, reverse=True)[:self.size]\n",
    "        return surivors\n",
    "\n",
    "    # Complete process of a generation\n",
    "    def evolve(self, parent_number = None, tournament_size = None, mutation_prob = 0.1) :\n",
    "        if parent_number == None :\n",
    "            parent_number = int(np.ceil(self.size / 5))\n",
    "        if tournament_size == None :\n",
    "            tournament_size = int(np.ceil(parent_number / 2))\n",
    "        parents = self.parent_selection(parent_number, tournament_size)\n",
    "        offspring = self.create_offspring(parents, mutation_prob)\n",
    "        self.individuals = self.survivor_selection(offspring)\n",
    "        self.cnt_gen += 1\n"
   ]
  },
  {
   "cell_type": "code",
   "execution_count": 55,
   "metadata": {},
   "outputs": [
    {
     "name": "stdout",
     "output_type": "stream",
     "text": [
      "Initial population fitness : 0.518\n",
      "----------\n",
      "Optimal individual found in 5 generations, with 350 calls to fitness function\n"
     ]
    }
   ],
   "source": [
    "fitness = lab9_lib.make_problem(1)\n",
    "test = Population(100,50, fitness)\n",
    "print(\"Initial population fitness :\", np.mean([ind.fitness for ind in test]))\n",
    "print('----------')\n",
    "while not np.any(np.array([ind.fitness for ind in test]) == 1) :\n",
    "    test.evolve()\n",
    "print(f\"Optimal individual found in {test.cnt_gen} generations, with {fitness.calls} calls to fitness function\")"
   ]
  },
  {
   "cell_type": "code",
   "execution_count": 53,
   "metadata": {},
   "outputs": [],
   "source": [
    "# Promote diversity with islands partition\n",
    "class IslandPopulation(Population) :\n",
    "    def __init__(self, size, offspring_size, fitness, island_number, migration_fqcy, migration_prob) -> None:\n",
    "        super().__init__(size, offspring_size, fitness)\n",
    "        if island_number > size / 4 :\n",
    "            self.island_number = self.size / 4\n",
    "        else :\n",
    "            self.island_number = island_number\n",
    "        self.migration_fqcy = migration_fqcy\n",
    "        self.migration_prob = migration_prob\n",
    "        self.ind_per_island = np.split(np.array(self.individuals), self.island_number)\n",
    "    \n",
    "    # Parent selection has to be done in each island\n",
    "    def parent_selection(self, parent_number, tournament_size, island) :\n",
    "        parents = []\n",
    "        island_individuals = self.ind_per_island[island]\n",
    "        for _ in range(parent_number) :\n",
    "            candidates = rand.choice(island_individuals, size=tournament_size)\n",
    "            parent = max(candidates, key=lambda i : i.fitness)\n",
    "            parents.append(parent)\n",
    "\n",
    "        return parents    \n",
    "    \n",
    "    # Survivor selection is also done locally on each island\n",
    "    def survivor_selection(self, offspring, island) :\n",
    "        total_population = self.ind_per_island[island].tolist()\n",
    "        total_population.extend(offspring)\n",
    "        # Sort all individuals by descending fitness, and keep the fittest one to conserve population size\n",
    "        surivors = sorted(total_population, key = lambda i : i.fitness, reverse=True)[:self.size]\n",
    "        return np.array(surivors)\n",
    "    \n",
    "    # Evolve now includes migration between islands\n",
    "    def evolve(self, parent_number = None, tournament_size = None, mutation_prob = 0.1) :\n",
    "        if parent_number == None :\n",
    "            parent_number = int(np.ceil(self.size / (self.island_number * 5)))\n",
    "        if tournament_size == None :\n",
    "            tournament_size = int(np.ceil(parent_number / 2))\n",
    "\n",
    "        if self.cnt_gen % self.migration_fqcy == 0 :\n",
    "            for island, inds in enumerate(self.ind_per_island) :\n",
    "                for ind in inds :\n",
    "                    if rand.rand() > self.migration_prob :\n",
    "                        continue\n",
    "                    new_island = rand.choice(np.setdiff1d(np.arange(0, self.island_number), np.array([island])))\n",
    "                    ind_list = self.ind_per_island[island].tolist()\n",
    "                    ind_list.remove(ind)\n",
    "                    self.ind_per_island[island] = np.array(ind_list)\n",
    "                    self.ind_per_island[new_island] = np.append(self.ind_per_island[new_island], ind)\n",
    "                    \n",
    "        for island in range(self.island_number) :\n",
    "            parents = self.parent_selection(parent_number, tournament_size, island)\n",
    "            offspring = self.create_offspring(parents, mutation_prob)\n",
    "            self.ind_per_island[island] = self.survivor_selection(offspring, island)\n",
    "    \n",
    "        self.individuals = [ind for island_inds in self.ind_per_island for ind in island_inds]\n",
    "        self.cnt_gen += 1\n",
    "\n"
   ]
  },
  {
   "cell_type": "code",
   "execution_count": 79,
   "metadata": {},
   "outputs": [
    {
     "name": "stdout",
     "output_type": "stream",
     "text": [
      "Initial population fitness : 0.48699999999999993\n",
      "----------\n",
      "Optimal individual found in 9 generations, with 1000 calls to fitness function\n"
     ]
    }
   ],
   "source": [
    "fitness = lab9_lib.make_problem(1)\n",
    "island_pop = IslandPopulation(100,50, fitness, 2, 5, 0.8)\n",
    "print(\"Initial population fitness :\", np.mean([ind.fitness for ind in island_pop]))\n",
    "print('----------')\n",
    "while not np.any(np.array([ind.fitness for ind in island_pop]) == 1) :\n",
    "    island_pop.evolve()\n",
    "print(f\"Optimal individual found in {island_pop.cnt_gen} generations, with {fitness.calls} calls to fitness function\")"
   ]
  },
  {
   "cell_type": "code",
   "execution_count": 24,
   "metadata": {},
   "outputs": [
    {
     "data": {
      "text/plain": [
       "[array([1]), array([2]), array([3])]"
      ]
     },
     "execution_count": 24,
     "metadata": {},
     "output_type": "execute_result"
    }
   ],
   "source": [
    "np.split(np.array([1,2,3]), 3)"
   ]
  },
  {
   "cell_type": "code",
   "execution_count": null,
   "metadata": {},
   "outputs": [],
   "source": []
  }
 ],
 "metadata": {
  "kernelspec": {
   "display_name": "ci-fLJ3OwGs-py3.12",
   "language": "python",
   "name": "python3"
  },
  "language_info": {
   "codemirror_mode": {
    "name": "ipython",
    "version": 3
   },
   "file_extension": ".py",
   "mimetype": "text/x-python",
   "name": "python",
   "nbconvert_exporter": "python",
   "pygments_lexer": "ipython3",
   "version": "3.9.13"
  }
 },
 "nbformat": 4,
 "nbformat_minor": 2
}
