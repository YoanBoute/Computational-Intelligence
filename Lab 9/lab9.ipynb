{
 "cells": [
  {
   "cell_type": "markdown",
   "metadata": {},
   "source": [
    "Copyright **`(c)`** 2023 Giovanni Squillero `<giovanni.squillero@polito.it>`  \n",
    "[`https://github.com/squillero/computational-intelligence`](https://github.com/squillero/computational-intelligence)  \n",
    "Free for personal or classroom use; see [`LICENSE.md`](https://github.com/squillero/computational-intelligence/blob/master/LICENSE.md) for details.  "
   ]
  },
  {
   "cell_type": "markdown",
   "metadata": {},
   "source": [
    "# LAB9\n",
    "\n",
    "Write a local-search algorithm (eg. an EA) able to solve the *Problem* instances 1, 2, 5, and 10 on a 1000-loci genomes, using a minimum number of fitness calls. That's all.\n",
    "\n",
    "### Deadlines:\n",
    "\n",
    "* Submission: Sunday, December 3 ([CET](https://www.timeanddate.com/time/zones/cet))\n",
    "* Reviews: Sunday, December 10 ([CET](https://www.timeanddate.com/time/zones/cet))\n",
    "\n",
    "Notes:\n",
    "\n",
    "* Reviews will be assigned  on Monday, December 4\n",
    "* You need to commit in order to be selected as a reviewer (ie. better to commit an empty work than not to commit)"
   ]
  },
  {
   "cell_type": "code",
   "execution_count": 52,
   "metadata": {},
   "outputs": [],
   "source": [
    "from random import choices\n",
    "import numpy as np\n",
    "import numpy.random as rand\n",
    "from copy import deepcopy\n",
    "from tqdm import tqdm\n",
    "\n",
    "import lab9_lib"
   ]
  },
  {
   "cell_type": "code",
   "execution_count": 93,
   "metadata": {},
   "outputs": [],
   "source": [
    "# Turn this back to 1000 to solve the real problem\n",
    "INDIVIDUAL_SIZE = 100"
   ]
  },
  {
   "cell_type": "code",
   "execution_count": 3,
   "metadata": {},
   "outputs": [
    {
     "name": "stdout",
     "output_type": "stream",
     "text": [
      "[1, 1, 1, 1, 1, 1, 1, 1, 1, 1]\n",
      "1024\n"
     ]
    }
   ],
   "source": [
    "fitness = lab9_lib.make_problem(1)\n",
    "for n in range(2**10):\n",
    "    ind = [int(b) for b in str('{0:010b}'.format(n))]\n",
    "    if fitness(ind) == 1 :\n",
    "        print(ind)\n",
    "\n",
    "print(fitness.calls)"
   ]
  },
  {
   "cell_type": "code",
   "execution_count": 46,
   "metadata": {},
   "outputs": [],
   "source": [
    "class Individual :\n",
    "    def __init__(self, fitness_func, genotype = None) -> None:\n",
    "        if genotype is None :\n",
    "            self.genotype = np.array([rand.choice([0,1]) for _ in range(INDIVIDUAL_SIZE)])\n",
    "        else :\n",
    "            self.genotype = genotype\n",
    "        self.fitness = fitness_func(self.genotype)\n",
    "\n",
    "    # Overload [] method\n",
    "    def __getitem__(self, key) :\n",
    "        return self.genotype[key]\n",
    "    \n",
    "    # Overload [] assignment method\n",
    "    def __setitem__(self, key, newvalue) :\n",
    "        self.genotype[key] = newvalue"
   ]
  },
  {
   "cell_type": "code",
   "execution_count": 73,
   "metadata": {},
   "outputs": [],
   "source": [
    "class Population :\n",
    "    def __init__(self, size, offspring_size, fitness) -> None:\n",
    "        self.size = size\n",
    "        self.offspring_size = offspring_size\n",
    "        self.individuals = [Individual(fitness) for _ in range(self.size)]\n",
    "        self.fitness = fitness\n",
    "\n",
    "    # Allows to iterate directly over individuals\n",
    "    def __iter__(self) :\n",
    "        return self.individuals.__iter__()\n",
    "\n",
    "    # Mutates one random gene of an individual\n",
    "    def mutate(self, individual : Individual) :\n",
    "        # Mutation\n",
    "        new_ind = deepcopy(individual)\n",
    "        loci = rand.randint(0, INDIVIDUAL_SIZE)\n",
    "        new_ind[loci] = not new_ind[loci]\n",
    "        \n",
    "        # Fitness update\n",
    "        new_ind.fitness = self.fitness(new_ind.genotype)\n",
    "            \n",
    "        return new_ind\n",
    "    \n",
    "    # Recombines two parents using uniform crossover (or a computationally lighter approach in which each individual get exactly 50% genes randomly from each parent)\n",
    "    def crossover(self, ind1 : Individual, ind2 : Individual) :\n",
    "        new_genotype = np.zeros(INDIVIDUAL_SIZE)\n",
    "        indices = np.arange(INDIVIDUAL_SIZE)\n",
    "        rand.shuffle(indices)\n",
    "        limit = int(np.floor(INDIVIDUAL_SIZE / 2))\n",
    "        new_genotype[indices[:limit]] = ind1[indices[:limit]]\n",
    "        new_genotype[indices[limit:]] = ind2[indices[limit:]]\n",
    "        new_ind = Individual(self.fitness, new_genotype)\n",
    "        # new_ind = Individual(self.fitness, [rand.choice([ind1[i], ind2[i]]) for i in range(INDIVIDUAL_SIZE)])\n",
    "        return new_ind\n",
    "\n",
    "    # Perform parent selection using tournament selection\n",
    "    def parent_selection(self, parent_number, tournament_size) :\n",
    "        parents = []\n",
    "        for _ in range(parent_number) :\n",
    "            candidates = rand.choice(self.individuals, size=tournament_size)\n",
    "            parent = max(candidates, key=lambda i : i.fitness)\n",
    "            parents.append(parent)\n",
    "\n",
    "        return parents\n",
    "    \n",
    "    # Create offspring_size new individuals, either by mutation or by crossover\n",
    "    def create_offspring(self, parents, mutation_prob) :\n",
    "        new_individuals = []\n",
    "        for _ in range(self.offspring_size) :\n",
    "            if rand.rand() < mutation_prob :\n",
    "                parent = rand.choice(parents)\n",
    "                new_individuals.append(self.mutate(parent))\n",
    "            else :\n",
    "                par1, par2 = rand.choice(parents, size=2)\n",
    "                new_individuals.append(self.crossover(par1, par2))\n",
    "        \n",
    "        return new_individuals\n",
    "    \n",
    "    # Determine the survivors of the population based on their fitness\n",
    "    def survivor_selection(self, offspring) :\n",
    "        total_population = self.individuals\n",
    "        total_population.extend(offspring)\n",
    "        # Sort all individuals by descending fitness, and keep the fittest one to conserve population size\n",
    "        surivors = sorted(total_population, key = lambda i : i.fitness, reverse=True)[:self.size]\n",
    "        return surivors\n",
    "\n",
    "    # Complete process of a generation\n",
    "    def evolve(self, parent_number = None, tournament_size = None, mutation_prob = 0.1) :\n",
    "        if parent_number == None :\n",
    "            parent_number = int(np.ceil(self.size / 5))\n",
    "        if tournament_size == None :\n",
    "            tournament_size = int(np.ceil(parent_number / 2))\n",
    "        parents = self.parent_selection(parent_number, tournament_size)\n",
    "        offspring = self.create_offspring(parents, mutation_prob)\n",
    "        self.individuals = self.survivor_selection(offspring)\n"
   ]
  },
  {
   "cell_type": "code",
   "execution_count": 96,
   "metadata": {},
   "outputs": [
    {
     "name": "stdout",
     "output_type": "stream",
     "text": [
      "Initial population fitness : 0.270972\n",
      "----------\n"
     ]
    },
    {
     "ename": "KeyboardInterrupt",
     "evalue": "",
     "output_type": "error",
     "traceback": [
      "\u001b[1;31m---------------------------------------------------------------------------\u001b[0m",
      "\u001b[1;31mKeyboardInterrupt\u001b[0m                         Traceback (most recent call last)",
      "\u001b[1;32md:\\Documents\\PoliTo\\Computational Intelligence\\Code\\Computational-Intelligence-RepoGit\\Lab 9\\lab9.ipynb Cell 8\u001b[0m line \u001b[0;36m7\n\u001b[0;32m      <a href='vscode-notebook-cell:/d%3A/Documents/PoliTo/Computational%20Intelligence/Code/Computational-Intelligence-RepoGit/Lab%209/lab9.ipynb#X10sZmlsZQ%3D%3D?line=4'>5</a>\u001b[0m cnt_gen \u001b[39m=\u001b[39m \u001b[39m0\u001b[39m\n\u001b[0;32m      <a href='vscode-notebook-cell:/d%3A/Documents/PoliTo/Computational%20Intelligence/Code/Computational-Intelligence-RepoGit/Lab%209/lab9.ipynb#X10sZmlsZQ%3D%3D?line=5'>6</a>\u001b[0m \u001b[39mwhile\u001b[39;00m \u001b[39mnot\u001b[39;00m np\u001b[39m.\u001b[39many(np\u001b[39m.\u001b[39marray([ind\u001b[39m.\u001b[39mfitness \u001b[39mfor\u001b[39;00m ind \u001b[39min\u001b[39;00m test]) \u001b[39m==\u001b[39m \u001b[39m1\u001b[39m) :\n\u001b[1;32m----> <a href='vscode-notebook-cell:/d%3A/Documents/PoliTo/Computational%20Intelligence/Code/Computational-Intelligence-RepoGit/Lab%209/lab9.ipynb#X10sZmlsZQ%3D%3D?line=6'>7</a>\u001b[0m     test\u001b[39m.\u001b[39;49mevolve()\n\u001b[0;32m      <a href='vscode-notebook-cell:/d%3A/Documents/PoliTo/Computational%20Intelligence/Code/Computational-Intelligence-RepoGit/Lab%209/lab9.ipynb#X10sZmlsZQ%3D%3D?line=7'>8</a>\u001b[0m     cnt_gen \u001b[39m+\u001b[39m\u001b[39m=\u001b[39m \u001b[39m1\u001b[39m\n\u001b[0;32m      <a href='vscode-notebook-cell:/d%3A/Documents/PoliTo/Computational%20Intelligence/Code/Computational-Intelligence-RepoGit/Lab%209/lab9.ipynb#X10sZmlsZQ%3D%3D?line=8'>9</a>\u001b[0m \u001b[39mprint\u001b[39m(\u001b[39mf\u001b[39m\u001b[39m\"\u001b[39m\u001b[39mOptimal individual found in \u001b[39m\u001b[39m{\u001b[39;00mcnt_gen\u001b[39m}\u001b[39;00m\u001b[39m generations, with \u001b[39m\u001b[39m{\u001b[39;00mfitness\u001b[39m.\u001b[39mcalls\u001b[39m}\u001b[39;00m\u001b[39m calls to fitness function\u001b[39m\u001b[39m\"\u001b[39m)\n",
      "\u001b[1;32md:\\Documents\\PoliTo\\Computational Intelligence\\Code\\Computational-Intelligence-RepoGit\\Lab 9\\lab9.ipynb Cell 8\u001b[0m line \u001b[0;36m7\n\u001b[0;32m     <a href='vscode-notebook-cell:/d%3A/Documents/PoliTo/Computational%20Intelligence/Code/Computational-Intelligence-RepoGit/Lab%209/lab9.ipynb#X10sZmlsZQ%3D%3D?line=71'>72</a>\u001b[0m     tournament_size \u001b[39m=\u001b[39m \u001b[39mint\u001b[39m(np\u001b[39m.\u001b[39mceil(parent_number \u001b[39m/\u001b[39m \u001b[39m2\u001b[39m))\n\u001b[0;32m     <a href='vscode-notebook-cell:/d%3A/Documents/PoliTo/Computational%20Intelligence/Code/Computational-Intelligence-RepoGit/Lab%209/lab9.ipynb#X10sZmlsZQ%3D%3D?line=72'>73</a>\u001b[0m parents \u001b[39m=\u001b[39m \u001b[39mself\u001b[39m\u001b[39m.\u001b[39mparent_selection(parent_number, tournament_size)\n\u001b[1;32m---> <a href='vscode-notebook-cell:/d%3A/Documents/PoliTo/Computational%20Intelligence/Code/Computational-Intelligence-RepoGit/Lab%209/lab9.ipynb#X10sZmlsZQ%3D%3D?line=73'>74</a>\u001b[0m offspring \u001b[39m=\u001b[39m \u001b[39mself\u001b[39;49m\u001b[39m.\u001b[39;49mcreate_offspring(parents, mutation_prob)\n\u001b[0;32m     <a href='vscode-notebook-cell:/d%3A/Documents/PoliTo/Computational%20Intelligence/Code/Computational-Intelligence-RepoGit/Lab%209/lab9.ipynb#X10sZmlsZQ%3D%3D?line=74'>75</a>\u001b[0m \u001b[39mself\u001b[39m\u001b[39m.\u001b[39mindividuals \u001b[39m=\u001b[39m \u001b[39mself\u001b[39m\u001b[39m.\u001b[39msurvivor_selection(offspring)\n",
      "\u001b[1;32md:\\Documents\\PoliTo\\Computational Intelligence\\Code\\Computational-Intelligence-RepoGit\\Lab 9\\lab9.ipynb Cell 8\u001b[0m line \u001b[0;36m5\n\u001b[0;32m     <a href='vscode-notebook-cell:/d%3A/Documents/PoliTo/Computational%20Intelligence/Code/Computational-Intelligence-RepoGit/Lab%209/lab9.ipynb#X10sZmlsZQ%3D%3D?line=52'>53</a>\u001b[0m     \u001b[39melse\u001b[39;00m :\n\u001b[0;32m     <a href='vscode-notebook-cell:/d%3A/Documents/PoliTo/Computational%20Intelligence/Code/Computational-Intelligence-RepoGit/Lab%209/lab9.ipynb#X10sZmlsZQ%3D%3D?line=53'>54</a>\u001b[0m         par1, par2 \u001b[39m=\u001b[39m rand\u001b[39m.\u001b[39mchoice(parents, size\u001b[39m=\u001b[39m\u001b[39m2\u001b[39m)\n\u001b[1;32m---> <a href='vscode-notebook-cell:/d%3A/Documents/PoliTo/Computational%20Intelligence/Code/Computational-Intelligence-RepoGit/Lab%209/lab9.ipynb#X10sZmlsZQ%3D%3D?line=54'>55</a>\u001b[0m         new_individuals\u001b[39m.\u001b[39mappend(\u001b[39mself\u001b[39;49m\u001b[39m.\u001b[39;49mcrossover(par1, par2))\n\u001b[0;32m     <a href='vscode-notebook-cell:/d%3A/Documents/PoliTo/Computational%20Intelligence/Code/Computational-Intelligence-RepoGit/Lab%209/lab9.ipynb#X10sZmlsZQ%3D%3D?line=56'>57</a>\u001b[0m \u001b[39mreturn\u001b[39;00m new_individuals\n",
      "\u001b[1;32md:\\Documents\\PoliTo\\Computational Intelligence\\Code\\Computational-Intelligence-RepoGit\\Lab 9\\lab9.ipynb Cell 8\u001b[0m line \u001b[0;36m3\n\u001b[0;32m     <a href='vscode-notebook-cell:/d%3A/Documents/PoliTo/Computational%20Intelligence/Code/Computational-Intelligence-RepoGit/Lab%209/lab9.ipynb#X10sZmlsZQ%3D%3D?line=28'>29</a>\u001b[0m limit \u001b[39m=\u001b[39m \u001b[39mint\u001b[39m(np\u001b[39m.\u001b[39mfloor(INDIVIDUAL_SIZE \u001b[39m/\u001b[39m \u001b[39m2\u001b[39m))\n\u001b[0;32m     <a href='vscode-notebook-cell:/d%3A/Documents/PoliTo/Computational%20Intelligence/Code/Computational-Intelligence-RepoGit/Lab%209/lab9.ipynb#X10sZmlsZQ%3D%3D?line=29'>30</a>\u001b[0m new_genotype[indices[:limit]] \u001b[39m=\u001b[39m ind1[indices[:limit]]\n\u001b[1;32m---> <a href='vscode-notebook-cell:/d%3A/Documents/PoliTo/Computational%20Intelligence/Code/Computational-Intelligence-RepoGit/Lab%209/lab9.ipynb#X10sZmlsZQ%3D%3D?line=30'>31</a>\u001b[0m new_genotype[indices[limit:]] \u001b[39m=\u001b[39m ind2[indices[limit:]]\n\u001b[0;32m     <a href='vscode-notebook-cell:/d%3A/Documents/PoliTo/Computational%20Intelligence/Code/Computational-Intelligence-RepoGit/Lab%209/lab9.ipynb#X10sZmlsZQ%3D%3D?line=31'>32</a>\u001b[0m new_ind \u001b[39m=\u001b[39m Individual(\u001b[39mself\u001b[39m\u001b[39m.\u001b[39mfitness, new_genotype)\n\u001b[0;32m     <a href='vscode-notebook-cell:/d%3A/Documents/PoliTo/Computational%20Intelligence/Code/Computational-Intelligence-RepoGit/Lab%209/lab9.ipynb#X10sZmlsZQ%3D%3D?line=32'>33</a>\u001b[0m \u001b[39m# new_ind = Individual(self.fitness, [rand.choice([ind1[i], ind2[i]]) for i in range(INDIVIDUAL_SIZE)])\u001b[39;00m\n",
      "\u001b[1;32md:\\Documents\\PoliTo\\Computational Intelligence\\Code\\Computational-Intelligence-RepoGit\\Lab 9\\lab9.ipynb Cell 8\u001b[0m line \u001b[0;36m1\n\u001b[0;32m     <a href='vscode-notebook-cell:/d%3A/Documents/PoliTo/Computational%20Intelligence/Code/Computational-Intelligence-RepoGit/Lab%209/lab9.ipynb#X10sZmlsZQ%3D%3D?line=9'>10</a>\u001b[0m \u001b[39mdef\u001b[39;00m \u001b[39m__getitem__\u001b[39m(\u001b[39mself\u001b[39m, key) :\n\u001b[1;32m---> <a href='vscode-notebook-cell:/d%3A/Documents/PoliTo/Computational%20Intelligence/Code/Computational-Intelligence-RepoGit/Lab%209/lab9.ipynb#X10sZmlsZQ%3D%3D?line=10'>11</a>\u001b[0m     \u001b[39mreturn\u001b[39;00m \u001b[39mself\u001b[39;49m\u001b[39m.\u001b[39;49mgenotype[key]\n",
      "\u001b[1;31mKeyboardInterrupt\u001b[0m: "
     ]
    }
   ],
   "source": [
    "fitness = lab9_lib.make_problem(2)\n",
    "test = Population(500,500, fitness)\n",
    "print(\"Initial population fitness :\", np.mean([ind.fitness for ind in test]))\n",
    "print('----------')\n",
    "cnt_gen = 0\n",
    "while not np.any(np.array([ind.fitness for ind in test]) == 1) :\n",
    "    test.evolve()\n",
    "    cnt_gen += 1\n",
    "print(f\"Optimal individual found in {cnt_gen} generations, with {fitness.calls} calls to fitness function\")"
   ]
  },
  {
   "cell_type": "code",
   "execution_count": 71,
   "metadata": {},
   "outputs": [
    {
     "data": {
      "text/plain": [
       "array([ True, False, False, False, False, False, False, False, False,\n",
       "       False,  True])"
      ]
     },
     "execution_count": 71,
     "metadata": {},
     "output_type": "execute_result"
    }
   ],
   "source": [
    "np.any([ind.fitness for ind in test] == 1)\n",
    "test.individuals.append(Individual(fitness, [1 for _ in range(10)]))\n",
    "np.array([ind.fitness for ind in test]) == 1\n"
   ]
  },
  {
   "cell_type": "code",
   "execution_count": null,
   "metadata": {},
   "outputs": [],
   "source": []
  }
 ],
 "metadata": {
  "kernelspec": {
   "display_name": "ci-fLJ3OwGs-py3.12",
   "language": "python",
   "name": "python3"
  },
  "language_info": {
   "codemirror_mode": {
    "name": "ipython",
    "version": 3
   },
   "file_extension": ".py",
   "mimetype": "text/x-python",
   "name": "python",
   "nbconvert_exporter": "python",
   "pygments_lexer": "ipython3",
   "version": "3.9.13"
  }
 },
 "nbformat": 4,
 "nbformat_minor": 2
}
