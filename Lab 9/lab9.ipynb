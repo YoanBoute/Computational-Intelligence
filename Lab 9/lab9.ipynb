{
 "cells": [
  {
   "cell_type": "markdown",
   "metadata": {},
   "source": [
    "Copyright **`(c)`** 2023 Giovanni Squillero `<giovanni.squillero@polito.it>`  \n",
    "[`https://github.com/squillero/computational-intelligence`](https://github.com/squillero/computational-intelligence)  \n",
    "Free for personal or classroom use; see [`LICENSE.md`](https://github.com/squillero/computational-intelligence/blob/master/LICENSE.md) for details.  "
   ]
  },
  {
   "cell_type": "markdown",
   "metadata": {},
   "source": [
    "# LAB9\n",
    "\n",
    "Write a local-search algorithm (eg. an EA) able to solve the *Problem* instances 1, 2, 5, and 10 on a 1000-loci genomes, using a minimum number of fitness calls. That's all.\n",
    "\n",
    "### Deadlines:\n",
    "\n",
    "* Submission: Sunday, December 3 ([CET](https://www.timeanddate.com/time/zones/cet))\n",
    "* Reviews: Sunday, December 10 ([CET](https://www.timeanddate.com/time/zones/cet))\n",
    "\n",
    "Notes:\n",
    "\n",
    "* Reviews will be assigned  on Monday, December 4\n",
    "* You need to commit in order to be selected as a reviewer (ie. better to commit an empty work than not to commit)"
   ]
  },
  {
   "cell_type": "code",
   "execution_count": 2,
   "metadata": {},
   "outputs": [],
   "source": [
    "from random import choices\n",
    "import numpy as np\n",
    "import numpy.random as rand\n",
    "from copy import deepcopy\n",
    "from tqdm import tqdm\n",
    "from scipy import stats\n",
    "\n",
    "import lab9_lib"
   ]
  },
  {
   "cell_type": "code",
   "execution_count": 3,
   "metadata": {},
   "outputs": [],
   "source": [
    "# Turn this back to 1000 to solve the real problem\n",
    "INDIVIDUAL_SIZE = 30"
   ]
  },
  {
   "cell_type": "code",
   "execution_count": 4,
   "metadata": {},
   "outputs": [
    {
     "name": "stdout",
     "output_type": "stream",
     "text": [
      "[1, 1, 1, 1, 1, 1, 1, 1, 1, 1]\n",
      "1024\n"
     ]
    }
   ],
   "source": [
    "fitness = lab9_lib.make_problem(1)\n",
    "for n in range(2**10):\n",
    "    ind = [int(b) for b in str('{0:010b}'.format(n))]\n",
    "    if fitness(ind) == 1 :\n",
    "        print(ind)\n",
    "\n",
    "print(fitness.calls)"
   ]
  },
  {
   "cell_type": "markdown",
   "metadata": {},
   "source": [
    "Basis Genetic Algorithm"
   ]
  },
  {
   "cell_type": "code",
   "execution_count": 5,
   "metadata": {},
   "outputs": [],
   "source": [
    "class Individual :\n",
    "    def __init__(self, fitness_func, genotype = None) -> None:\n",
    "        if genotype is None :\n",
    "            self.genotype = np.array([rand.choice([0,1]) for _ in range(INDIVIDUAL_SIZE)])\n",
    "        else :\n",
    "            self.genotype = genotype\n",
    "        self.fitness = fitness_func(self.genotype)\n",
    "        if self.fitness == 1 :\n",
    "            raise Exception(\"Solution found\")\n",
    "\n",
    "    # Overload [] method\n",
    "    def __getitem__(self, key) :\n",
    "        return self.genotype[key]\n",
    "    \n",
    "    # Overload [] assignment method\n",
    "    def __setitem__(self, key, newvalue) :\n",
    "        self.genotype[key] = newvalue"
   ]
  },
  {
   "cell_type": "code",
   "execution_count": 6,
   "metadata": {},
   "outputs": [],
   "source": [
    "class Population :\n",
    "    def __init__(self, size, offspring_size, fitness) -> None:\n",
    "        self.size = size\n",
    "        self.offspring_size = offspring_size\n",
    "        self.individuals = [Individual(fitness) for _ in range(self.size)]\n",
    "        self.fitness = fitness\n",
    "        self.cnt_gen = 0\n",
    "\n",
    "    # Allows to iterate directly over individuals\n",
    "    def __iter__(self) :\n",
    "        return self.individuals.__iter__()\n",
    "\n",
    "    # Mutates one random gene of an individual\n",
    "    def mutate(self, individual : Individual) :\n",
    "        # Mutation\n",
    "        new_ind = deepcopy(individual)\n",
    "        loci = rand.randint(0, INDIVIDUAL_SIZE)\n",
    "        new_ind[loci] = not new_ind[loci]\n",
    "        \n",
    "        # Fitness update\n",
    "        new_ind.fitness = self.fitness(new_ind.genotype)\n",
    "        # Raising an exception when the optimal individual has been found prevents any further useless call of the fitness function\n",
    "        if self.fitness == 1 :\n",
    "            raise Exception(\"Solution found\")\n",
    "            \n",
    "        return new_ind\n",
    "    \n",
    "    # Recombines two parents using uniform crossover (or a computationally lighter approach in which each individual get exactly 50% genes randomly from each parent)\n",
    "    def crossover(self, ind1 : Individual, ind2 : Individual) :\n",
    "        new_genotype = np.zeros(INDIVIDUAL_SIZE)\n",
    "        indices = np.arange(INDIVIDUAL_SIZE)\n",
    "        rand.shuffle(indices)\n",
    "        limit = int(np.floor(INDIVIDUAL_SIZE / 2))\n",
    "        new_genotype[indices[:limit]] = ind1[indices[:limit]]\n",
    "        new_genotype[indices[limit:]] = ind2[indices[limit:]]\n",
    "        new_ind = Individual(self.fitness, new_genotype)\n",
    "        # new_ind = Individual(self.fitness, [rand.choice([ind1[i], ind2[i]]) for i in range(INDIVIDUAL_SIZE)])\n",
    "        return new_ind\n",
    "\n",
    "    # Perform parent selection using tournament selection\n",
    "    def parent_selection(self, parent_number, tournament_size) :\n",
    "        parents = []\n",
    "        for _ in range(parent_number) :\n",
    "            candidates = rand.choice(self.individuals, size=tournament_size)\n",
    "            parent = max(candidates, key=lambda i : i.fitness)\n",
    "            parents.append(parent)\n",
    "\n",
    "        return parents\n",
    "    \n",
    "    # Create offspring_size new individuals, either by mutation or by crossover\n",
    "    def create_offspring(self, parents, mutation_prob) :\n",
    "        new_individuals = []\n",
    "        for _ in range(self.offspring_size) :\n",
    "            if rand.rand() < mutation_prob :\n",
    "                parent = rand.choice(parents)\n",
    "                new_individuals.append(self.mutate(parent))\n",
    "            else :\n",
    "                par1, par2 = rand.choice(parents, size=2)\n",
    "                new_individuals.append(self.crossover(par1, par2))\n",
    "        \n",
    "        return new_individuals\n",
    "    \n",
    "    # Determine the survivors of the population based on their fitness\n",
    "    def survivor_selection(self, offspring) :\n",
    "        total_population = self.individuals\n",
    "        total_population.extend(offspring)\n",
    "        # Sort all individuals by descending fitness, and keep the fittest one to conserve population size\n",
    "        surivors = sorted(total_population, key = lambda i : i.fitness, reverse=True)[:self.size]\n",
    "        return surivors\n",
    "\n",
    "    # Complete process of a generation\n",
    "    def evolve(self, parent_number = None, tournament_size = None, mutation_prob = 0.1) :\n",
    "        if parent_number == None :\n",
    "            parent_number = int(np.ceil(self.size / 5))\n",
    "        if tournament_size == None :\n",
    "            tournament_size = int(np.ceil(parent_number / 2))\n",
    "        parents = self.parent_selection(parent_number, tournament_size)\n",
    "        offspring = self.create_offspring(parents, mutation_prob)\n",
    "        self.individuals = self.survivor_selection(offspring)\n",
    "        self.cnt_gen += 1\n"
   ]
  },
  {
   "cell_type": "code",
   "execution_count": 7,
   "metadata": {},
   "outputs": [
    {
     "name": "stdout",
     "output_type": "stream",
     "text": [
      "Initial population fitness : 0.5006666666666667\n",
      "----------\n",
      "Optimal individual found in 4 generations, with 320 calls to fitness function\n"
     ]
    }
   ],
   "source": [
    "fitness = lab9_lib.make_problem(1)\n",
    "test = Population(100,50, fitness)\n",
    "print(\"Initial population fitness :\", np.mean([ind.fitness for ind in test]))\n",
    "print('----------')\n",
    "while True:\n",
    "    try :\n",
    "        test.evolve()\n",
    "    except :\n",
    "        print(f\"Optimal individual found in {test.cnt_gen} generations, with {fitness.calls} calls to fitness function\")\n",
    "        break"
   ]
  },
  {
   "cell_type": "markdown",
   "metadata": {},
   "source": [
    "Promoting diversity with Islands strategy"
   ]
  },
  {
   "cell_type": "code",
   "execution_count": 8,
   "metadata": {},
   "outputs": [],
   "source": [
    "# Promote diversity with islands partition\n",
    "class IslandPopulation(Population) :\n",
    "    def __init__(self, size, offspring_size, fitness, island_number, migration_fqcy, migration_prob) -> None:\n",
    "        super().__init__(size, offspring_size, fitness)\n",
    "        if island_number > size / 4 :\n",
    "            self.island_number = self.size / 4\n",
    "        else :\n",
    "            self.island_number = island_number\n",
    "        self.migration_fqcy = migration_fqcy\n",
    "        self.migration_prob = migration_prob\n",
    "        self.ind_per_island = np.split(np.array(self.individuals), self.island_number)\n",
    "    \n",
    "    # Parent selection has to be done in each island\n",
    "    def parent_selection(self, parent_number, tournament_size, island) :\n",
    "        parents = []\n",
    "        island_individuals = self.ind_per_island[island]\n",
    "        for _ in range(parent_number) :\n",
    "            candidates = rand.choice(island_individuals, size=tournament_size)\n",
    "            parent = max(candidates, key=lambda i : i.fitness)\n",
    "            parents.append(parent)\n",
    "\n",
    "        return parents    \n",
    "    \n",
    "    # Survivor selection is also done locally on each island\n",
    "    def survivor_selection(self, offspring, island) :\n",
    "        total_population = self.ind_per_island[island].tolist()\n",
    "        total_population.extend(offspring)\n",
    "        # Sort all individuals by descending fitness, and keep the fittest one to conserve population size\n",
    "        surivors = sorted(total_population, key = lambda i : i.fitness, reverse=True)[:self.size]\n",
    "        return np.array(surivors)\n",
    "    \n",
    "    # Evolve now includes migration between islands\n",
    "    def evolve(self, parent_number = None, tournament_size = None, mutation_prob = 0.1) :\n",
    "        if parent_number == None :\n",
    "            parent_number = int(np.ceil(self.size / (self.island_number * 5)))\n",
    "        if tournament_size == None :\n",
    "            tournament_size = int(np.ceil(parent_number / 2))\n",
    "\n",
    "        if self.cnt_gen % self.migration_fqcy == 0 :\n",
    "            for island, inds in enumerate(self.ind_per_island) :\n",
    "                for ind in inds :\n",
    "                    if rand.rand() > self.migration_prob :\n",
    "                        continue\n",
    "                    new_island = rand.choice(np.setdiff1d(np.arange(0, self.island_number), np.array([island])))\n",
    "                    ind_list = self.ind_per_island[island].tolist()\n",
    "                    ind_list.remove(ind)\n",
    "                    self.ind_per_island[island] = np.array(ind_list)\n",
    "                    self.ind_per_island[new_island] = np.append(self.ind_per_island[new_island], ind)\n",
    "                    \n",
    "        for island in range(self.island_number) :\n",
    "            parents = self.parent_selection(parent_number, tournament_size, island)\n",
    "            offspring = self.create_offspring(parents, mutation_prob)\n",
    "            self.ind_per_island[island] = self.survivor_selection(offspring, island)\n",
    "    \n",
    "        self.individuals = [ind for island_inds in self.ind_per_island for ind in island_inds]\n",
    "        self.cnt_gen += 1\n",
    "\n"
   ]
  },
  {
   "cell_type": "code",
   "execution_count": 9,
   "metadata": {},
   "outputs": [
    {
     "name": "stdout",
     "output_type": "stream",
     "text": [
      "Initial population fitness : 0.518\n",
      "----------\n",
      "Optimal individual found in 5 generations, with 666 calls to fitness function\n"
     ]
    }
   ],
   "source": [
    "fitness = lab9_lib.make_problem(1)\n",
    "island_pop = IslandPopulation(100,50, fitness, 2, 5, 0.8)\n",
    "print(\"Initial population fitness :\", np.mean([ind.fitness for ind in island_pop]))\n",
    "print('----------')\n",
    "while True :\n",
    "    try :\n",
    "        island_pop.evolve()\n",
    "    except :\n",
    "        print(f\"Optimal individual found in {island_pop.cnt_gen} generations, with {fitness.calls} calls to fitness function\")\n",
    "        break"
   ]
  },
  {
   "cell_type": "markdown",
   "metadata": {},
   "source": [
    "Extinction Mechanism"
   ]
  },
  {
   "cell_type": "code",
   "execution_count": 10,
   "metadata": {},
   "outputs": [],
   "source": [
    "# Population with no subpartition, but every given time, the least fitting individuals are killed and replaced by offspring of the fittest ones\n",
    "class ExtinctionPopulation(Population) :\n",
    "    def __init__(self, size, offspring_size, fitness, extinction_fqcy, extinction_rate) -> None:\n",
    "        super().__init__(size, offspring_size, fitness)\n",
    "        self.extinction_fqcy = extinction_fqcy\n",
    "        if extinction_rate < 0 or extinction_rate >= 1 :\n",
    "            self.extinction_rate = 0.5\n",
    "        else :\n",
    "            self.extinction_rate = extinction_rate\n",
    "    \n",
    "    # Keeps only the most fitting individuals, and generates offspring from them to repopulate\n",
    "    def extinct(self) :\n",
    "        survivors_num = int(np.ceil(self.size * self.extinction_rate))\n",
    "        survivors = sorted(self.individuals, key=lambda i : i.fitness, reverse=True)[:survivors_num]\n",
    "        new_population = survivors\n",
    "        for _ in range(self.size - survivors_num) :\n",
    "            if rand.rand() < 0.1 :\n",
    "                parent = rand.choice(survivors)\n",
    "                new_population.append(self.mutate(parent))\n",
    "            else :\n",
    "                par1, par2 = rand.choice(survivors, size=2)\n",
    "                new_population.append(self.crossover(par1, par2))\n",
    "        rand.shuffle(new_population)\n",
    "        self.individuals = new_population\n",
    "\n",
    "    def evolve(self, parent_number = None, tournament_size = None, mutation_prob = 0.1) :\n",
    "        if parent_number == None :\n",
    "            parent_number = int(np.ceil(self.size / 5))\n",
    "        if tournament_size == None :\n",
    "            tournament_size = int(np.ceil(parent_number / 2))\n",
    "        if self.cnt_gen % self.extinction_fqcy == 0 :\n",
    "            self.extinct()\n",
    "        parents = self.parent_selection(parent_number, tournament_size)\n",
    "        offspring = self.create_offspring(parents, mutation_prob)\n",
    "        self.individuals = self.survivor_selection(offspring)\n",
    "        self.cnt_gen += 1\n",
    "        "
   ]
  },
  {
   "cell_type": "code",
   "execution_count": 11,
   "metadata": {},
   "outputs": [
    {
     "name": "stdout",
     "output_type": "stream",
     "text": [
      "Initial population fitness : 0.5023333333333333\n",
      "----------\n"
     ]
    },
    {
     "name": "stdout",
     "output_type": "stream",
     "text": [
      "Optimal individual found in 3 generations, with 369 calls to fitness function\n"
     ]
    }
   ],
   "source": [
    "fitness = lab9_lib.make_problem(1)\n",
    "ext_pop = ExtinctionPopulation(100,50, fitness, extinction_fqcy=1, extinction_rate=0.8)\n",
    "print(\"Initial population fitness :\", np.mean([ind.fitness for ind in ext_pop]))\n",
    "print('----------')\n",
    "while True :\n",
    "    try :\n",
    "        ext_pop.evolve()\n",
    "    except :\n",
    "        print(f\"Optimal individual found in {ext_pop.cnt_gen} generations, with {fitness.calls} calls to fitness function\")\n",
    "        break"
   ]
  },
  {
   "cell_type": "markdown",
   "metadata": {},
   "source": [
    "Automatic algorithms comparison"
   ]
  },
  {
   "cell_type": "code",
   "execution_count": 12,
   "metadata": {},
   "outputs": [],
   "source": [
    "# Returns the confidence interval of the mean of sample\n",
    "def compute_conf_interval(sample, conf_level) :\n",
    "    #print(sample)\n",
    "    mean = np.mean(sample)\n",
    "    sd = np.std(sample, ddof=1)\n",
    "    alpha = 1 - conf_level\n",
    "    n = len(sample)\n",
    "    if n <= 30 :\n",
    "        quantile = stats.t(df=n-1).ppf(1 - alpha/2)\n",
    "    else :\n",
    "        quantile = stats.norm().ppf(1 - alpha/2)\n",
    "    \n",
    "    delta = quantile*sd/np.sqrt(n)\n",
    "\n",
    "    return [mean - delta, mean + delta]\n",
    "\n",
    "# Checks if two intervals overlap or not\n",
    "def are_disjoint(itv1, itv2) -> bool :\n",
    "    if itv1[0] > itv2[1] :\n",
    "        return True\n",
    "    if itv2[0] > itv1[1] :\n",
    "        return True\n",
    "    return False\n",
    "\n",
    "# Runs alg1 and alg2 until the confidence intervals on the average fitness function calls are disjoint, to know which algorithm is better\n",
    "# alg1 and alg2 should be of the form \"ClassName(pop_size,off_size,fitness, args)\" with \"fitness\" written this way \n",
    "def compare_algs(alg1, alg2, pb_instance) :\n",
    "    algs = (alg1, alg2)\n",
    "    alg_num = 0\n",
    "    algs_calls = [[],[]]\n",
    "    while True :\n",
    "        fitness = lab9_lib.make_problem(pb_instance)\n",
    "        population = eval(algs[alg_num])\n",
    "        while True :\n",
    "            try :\n",
    "                population.evolve()\n",
    "            # An exception is raised whenever an individual has a fitness of 1\n",
    "            except :\n",
    "                algs_calls[alg_num].append(fitness.calls)\n",
    "                alg_num = 1 - alg_num\n",
    "                break\n",
    "\n",
    "        if len(algs_calls[0]) < 2 or len(algs_calls[1]) < 2 :\n",
    "            continue\n",
    "        \n",
    "        itv1 = compute_conf_interval(algs_calls[0], 0.9)\n",
    "        itv2 = compute_conf_interval(algs_calls[1], 0.9)\n",
    "        #print(itv1, itv2)\n",
    "        if are_disjoint(itv1, itv2) :\n",
    "            break\n",
    "    \n",
    "    print(f\"Algorithm 1 : {np.floor(itv1[0])} - {np.floor(itv1[1])} calls \\nAlgorithm 2 : {np.floor(itv2[0])} - {np.floor(itv2[1])} calls \")\n",
    "        "
   ]
  },
  {
   "cell_type": "code",
   "execution_count": 16,
   "metadata": {},
   "outputs": [
    {
     "name": "stdout",
     "output_type": "stream",
     "text": [
      "Algorithm 1 : 479.0 - 521.0 calls \n",
      "Algorithm 2 : 446.0 - 478.0 calls \n"
     ]
    }
   ],
   "source": [
    "alg1 = \"Population(100, 5, fitness)\"\n",
    "alg2 = \"Population(100, 50, fitness)\"\n",
    "#alg1 = \"ExtinctionPopulation(100,50, fitness, extinction_fqcy=5, extinction_rate=0.2)\"\n",
    "\n",
    "#alg2 = \"IslandPopulation(100, 50, fitness, island_number = 5, migration_fqcy = 4, migration_prob = 0.1)\"\n",
    "compare_algs(alg1, alg2, 1)"
   ]
  },
  {
   "cell_type": "code",
   "execution_count": null,
   "metadata": {},
   "outputs": [],
   "source": [
    "'''Best solution : Population(100,50, fitness)'''"
   ]
  }
 ],
 "metadata": {
  "kernelspec": {
   "display_name": "ci-fLJ3OwGs-py3.12",
   "language": "python",
   "name": "python3"
  },
  "language_info": {
   "codemirror_mode": {
    "name": "ipython",
    "version": 3
   },
   "file_extension": ".py",
   "mimetype": "text/x-python",
   "name": "python",
   "nbconvert_exporter": "python",
   "pygments_lexer": "ipython3",
   "version": "3.9.13"
  }
 },
 "nbformat": 4,
 "nbformat_minor": 2
}
