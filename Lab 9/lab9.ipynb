{
 "cells": [
  {
   "cell_type": "markdown",
   "metadata": {},
   "source": [
    "Copyright **`(c)`** 2023 Giovanni Squillero `<giovanni.squillero@polito.it>`  \n",
    "[`https://github.com/squillero/computational-intelligence`](https://github.com/squillero/computational-intelligence)  \n",
    "Free for personal or classroom use; see [`LICENSE.md`](https://github.com/squillero/computational-intelligence/blob/master/LICENSE.md) for details.  "
   ]
  },
  {
   "cell_type": "markdown",
   "metadata": {},
   "source": [
    "# LAB9\n",
    "\n",
    "Write a local-search algorithm (eg. an EA) able to solve the *Problem* instances 1, 2, 5, and 10 on a 1000-loci genomes, using a minimum number of fitness calls. That's all.\n",
    "\n",
    "### Deadlines:\n",
    "\n",
    "* Submission: Sunday, December 3 ([CET](https://www.timeanddate.com/time/zones/cet))\n",
    "* Reviews: Sunday, December 10 ([CET](https://www.timeanddate.com/time/zones/cet))\n",
    "\n",
    "Notes:\n",
    "\n",
    "* Reviews will be assigned  on Monday, December 4\n",
    "* You need to commit in order to be selected as a reviewer (ie. better to commit an empty work than not to commit)"
   ]
  },
  {
   "cell_type": "code",
   "execution_count": 20,
   "metadata": {},
   "outputs": [],
   "source": [
    "from random import choices\n",
    "import numpy as np\n",
    "import numpy.random as rand\n",
    "from copy import deepcopy\n",
    "\n",
    "import lab9_lib"
   ]
  },
  {
   "cell_type": "code",
   "execution_count": 14,
   "metadata": {},
   "outputs": [],
   "source": [
    "INDIVIDUAL_SIZE = 1000"
   ]
  },
  {
   "cell_type": "code",
   "execution_count": 2,
   "metadata": {},
   "outputs": [
    {
     "name": "stdout",
     "output_type": "stream",
     "text": [
      "[1, 1, 1, 1, 1, 1, 1, 1, 1, 1]\n",
      "1024 0\n"
     ]
    }
   ],
   "source": [
    "fitness = lab9_lib.make_problem(1)\n",
    "for n in range(2**10):\n",
    "    ind = [int(b) for b in str('{0:010b}'.format(n))]\n",
    "    if fitness(ind) == 1 :\n",
    "        print(ind)\n",
    "\n",
    "print(fitness.calls)"
   ]
  },
  {
   "cell_type": "code",
   "execution_count": 40,
   "metadata": {},
   "outputs": [],
   "source": [
    "class Individual :\n",
    "    def __init__(self, fitness_func, genotype = None) -> None:\n",
    "        if genotype == None :\n",
    "            self.genotype = [rand.choice([0,1]) for _ in range(INDIVIDUAL_SIZE)]\n",
    "        else :\n",
    "            self.genotype = genotype\n",
    "        self.fitness = fitness_func(self.genotype)\n",
    "\n",
    "    # Overload [] method\n",
    "    def __getitem__(self, key) :\n",
    "        return self.genotype[key]\n",
    "    \n",
    "    # Overload [] assignment method\n",
    "    def __setitem__(self, key, newvalue) :\n",
    "        self.genotype[key] = newvalue"
   ]
  },
  {
   "cell_type": "code",
   "execution_count": 50,
   "metadata": {},
   "outputs": [],
   "source": [
    "class Population :\n",
    "    def __init__(self, size, offspring_size, fitness) -> None:\n",
    "        self.size = size\n",
    "        self.offsrping_size = offspring_size\n",
    "        self.individuals = [Individual(fitness) for _ in range(self.size)]\n",
    "        self.fitness = fitness\n",
    "\n",
    "    # Allows to iterate directly over individuals\n",
    "    def __iter__(self) :\n",
    "        return self.individuals.__iter__()\n",
    "\n",
    "    # Mutates one random gene of an individual\n",
    "    def mutate(self, individual : Individual) :\n",
    "        # Mutation\n",
    "        new_ind = deepcopy(individual)\n",
    "        loci = rand.randint(0, INDIVIDUAL_SIZE)\n",
    "        new_ind[loci] = not new_ind[loci]\n",
    "        \n",
    "        # Fitness update\n",
    "        new_ind.fitness = self.fitness(new_ind.genotype)\n",
    "        \n",
    "        return new_ind\n",
    "    \n",
    "    # Recombines two parents using uniform crossover\n",
    "    def crossover(self, ind1 : Individual, ind2 : Individual) :\n",
    "        new_ind = Individual(self.fitness, [rand.choice([ind1[i], ind2[i]]) for i in range(INDIVIDUAL_SIZE)])\n",
    "        return new_ind\n",
    "\n",
    "    # Perform parent selection using tournament selection\n",
    "    def parent_selection(self, parent_number, tournament_size) :\n",
    "        parents = []\n",
    "        for _ in range(parent_number) :\n",
    "            candidates = rand.choice(self.individuals, size=tournament_size)\n",
    "            parent = max(candidates, key= lambda i : i.fitness)\n",
    "            parents.append(parent)\n",
    "\n",
    "        return parents\n",
    "    \n",
    "    # Create offspring_size new individuals, either by mutation or by crossover\n",
    "    def create_offspring(self, parents, mutation_prob) :\n",
    "        new_individuals = []\n",
    "        for _ in range(self.offsrping_size) :\n",
    "            if rand.rand() < mutation_prob :\n",
    "                parent = rand.choice(parents)\n",
    "                new_individuals.append(self.mutate(parent))\n",
    "            else :\n",
    "                par1, par2 = rand.choice(parents, size=2)\n",
    "                new_individuals.append(self.crossover(par1, par2))\n",
    "        \n",
    "        return new_individuals\n",
    "    \n",
    "    # Determine the survivors of the population based on their fitness\n",
    "    def survivor_selection(self, offspring) :\n",
    "        total_population = self.individuals\n",
    "        total_population.extend(offspring)\n",
    "        # Sort all individuals by descending fitness, and keep the fittest one to conserve population size\n",
    "        surivors = sorted(total_population, key = lambda i : i.fitness, reverse=True)[:self.size]\n",
    "        return surivors\n",
    "\n",
    "    # Complete process of a generation\n",
    "    def evolve(self, parent_number = None, tournament_size = None, mutation_prob = 0.1) :\n",
    "        if parent_number == None :\n",
    "            parent_number = int(np.ceil(self.size / 5))\n",
    "        if tournament_size == None :\n",
    "            tournament_size = int(np.ceil(parent_number / 2))\n",
    "        parents = self.parent_selection(parent_number, tournament_size)\n",
    "        offspring = self.create_offspring(parents, mutation_prob)\n",
    "        self.individuals = self.survivor_selection(offspring)\n"
   ]
  },
  {
   "cell_type": "code",
   "execution_count": 55,
   "metadata": {},
   "outputs": [
    {
     "name": "stdout",
     "output_type": "stream",
     "text": [
      "0.49420000000000003\n",
      "----------\n",
      "0.623\n"
     ]
    }
   ],
   "source": [
    "test = Population(10,50, fitness)\n",
    "print(np.mean([ind.fitness for ind in test]))\n",
    "print('----------')\n",
    "for _ in range(100) :\n",
    "    test.evolve()\n",
    "print(np.mean([ind.fitness for ind in test]))"
   ]
  },
  {
   "cell_type": "code",
   "execution_count": 56,
   "metadata": {},
   "outputs": [
    {
     "data": {
      "text/plain": [
       "6764"
      ]
     },
     "execution_count": 56,
     "metadata": {},
     "output_type": "execute_result"
    }
   ],
   "source": [
    "fitness.calls"
   ]
  },
  {
   "cell_type": "code",
   "execution_count": null,
   "metadata": {},
   "outputs": [],
   "source": []
  }
 ],
 "metadata": {
  "kernelspec": {
   "display_name": "ci-fLJ3OwGs-py3.12",
   "language": "python",
   "name": "python3"
  },
  "language_info": {
   "codemirror_mode": {
    "name": "ipython",
    "version": 3
   },
   "file_extension": ".py",
   "mimetype": "text/x-python",
   "name": "python",
   "nbconvert_exporter": "python",
   "pygments_lexer": "ipython3",
   "version": "3.9.13"
  }
 },
 "nbformat": 4,
 "nbformat_minor": 2
}
